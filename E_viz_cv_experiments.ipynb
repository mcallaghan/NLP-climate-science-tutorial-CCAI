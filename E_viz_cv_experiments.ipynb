{
 "cells": [
  {
   "cell_type": "markdown",
   "metadata": {
    "pycharm": {
     "name": "#%% md\n"
    }
   },
   "source": [
    "## Vizualising CV results\n",
    "\n",
    "Now that we have run our CV experiments, it's time to have a look at the results"
   ]
  },
  {
   "cell_type": "code",
   "execution_count": 19,
   "metadata": {
    "pycharm": {
     "name": "#%%\n"
    }
   },
   "outputs": [
    {
     "name": "stdout",
     "output_type": "stream",
     "text": [
      "[0.92063281 0.90643928 0.95986494 1.02559003 1.01033485]\n",
      "[2.00459314 1.99085279 2.09868244 1.9693396  2.05328773]\n",
      "[3.03151121 2.97291068 2.91732888 2.93477739 3.03663804]\n"
     ]
    },
    {
     "data": {
      "image/png": "[encoded data removed]",
      "text/plain": [
       "<Figure size 432x288 with 1 Axes>"
      ]
     },
     "metadata": {
      "needs_background": "light"
     },
     "output_type": "display_data"
    }
   ],
   "source": [
    "import pandas as pd\n",
    "import matplotlib.pyplot as plt\n",
    "import numpy as np\n",
    "\n",
    "results = pd.read_json(\"cv_data/INCLUDE/outer_results_5_splits.json\")\n",
    "\n",
    "fig, ax = plt.subplots()\n",
    "\n",
    "for i, metric in enumerate(results.columns):\n",
    "    jitter = np.random.random(size=results.shape[0])*0.2 + i+0.9\n",
    "    print(jitter)\n",
    "    ax.scatter(jitter, results[metric], color=\"C0\")\n",
    "    \n",
    "ax.boxplot(results, showfliers=False)\n",
    "ax.set_xticklabels(results.columns)\n",
    "plt.show()\n"
   ]
  },
  {
   "cell_type": "code",
   "execution_count": 34,
   "metadata": {},
   "outputs": [
    {
     "data": {
      "text/html": [
       "<div>\n",
       "<style scoped>\n",
       "    .dataframe tbody tr th:only-of-type {\n",
       "        vertical-align: middle;\n",
       "    }\n",
       "\n",
       "    .dataframe tbody tr th {\n",
       "        vertical-align: top;\n",
       "    }\n",
       "\n",
       "    .dataframe thead th {\n",
       "        text-align: right;\n",
       "    }\n",
       "</style>\n",
       "<table border=\"1\" class=\"dataframe\">\n",
       "  <thead>\n",
       "    <tr style=\"text-align: right;\">\n",
       "      <th></th>\n",
       "      <th>f1_score_micro</th>\n",
       "      <th>f1_score_macro</th>\n",
       "      <th>f1_score_weighted</th>\n",
       "      <th>f1_score_0</th>\n",
       "      <th>f1_score_1</th>\n",
       "      <th>f1_score_2</th>\n",
       "      <th>f1_score_3</th>\n",
       "      <th>f1_score_4</th>\n",
       "      <th>precision_score_micro</th>\n",
       "      <th>precision_score_macro</th>\n",
       "      <th>...</th>\n",
       "      <th>precision_score_3</th>\n",
       "      <th>precision_score_4</th>\n",
       "      <th>recall_score_micro</th>\n",
       "      <th>recall_score_macro</th>\n",
       "      <th>recall_score_weighted</th>\n",
       "      <th>recall_score_0</th>\n",
       "      <th>recall_score_1</th>\n",
       "      <th>recall_score_2</th>\n",
       "      <th>recall_score_3</th>\n",
       "      <th>recall_score_4</th>\n",
       "    </tr>\n",
       "  </thead>\n",
       "  <tbody>\n",
       "    <tr>\n",
       "      <th>0</th>\n",
       "      <td>0.716981</td>\n",
       "      <td>0.700708</td>\n",
       "      <td>0.712370</td>\n",
       "      <td>0.500000</td>\n",
       "      <td>0.814815</td>\n",
       "      <td>0.875</td>\n",
       "      <td>0.666667</td>\n",
       "      <td>0.647059</td>\n",
       "      <td>0.863636</td>\n",
       "      <td>0.896503</td>\n",
       "      <td>...</td>\n",
       "      <td>0.636364</td>\n",
       "      <td>0.846154</td>\n",
       "      <td>0.612903</td>\n",
       "      <td>0.604484</td>\n",
       "      <td>0.612903</td>\n",
       "      <td>0.333333</td>\n",
       "      <td>0.687500</td>\n",
       "      <td>0.777778</td>\n",
       "      <td>0.700000</td>\n",
       "      <td>0.523810</td>\n",
       "    </tr>\n",
       "    <tr>\n",
       "      <th>1</th>\n",
       "      <td>0.788991</td>\n",
       "      <td>0.789368</td>\n",
       "      <td>0.789247</td>\n",
       "      <td>0.800000</td>\n",
       "      <td>0.869565</td>\n",
       "      <td>0.750</td>\n",
       "      <td>0.800000</td>\n",
       "      <td>0.727273</td>\n",
       "      <td>0.934783</td>\n",
       "      <td>0.921429</td>\n",
       "      <td>...</td>\n",
       "      <td>1.000000</td>\n",
       "      <td>0.857143</td>\n",
       "      <td>0.682540</td>\n",
       "      <td>0.696829</td>\n",
       "      <td>0.682540</td>\n",
       "      <td>0.666667</td>\n",
       "      <td>0.769231</td>\n",
       "      <td>0.750000</td>\n",
       "      <td>0.666667</td>\n",
       "      <td>0.631579</td>\n",
       "    </tr>\n",
       "    <tr>\n",
       "      <th>2</th>\n",
       "      <td>0.735043</td>\n",
       "      <td>0.724594</td>\n",
       "      <td>0.723764</td>\n",
       "      <td>0.470588</td>\n",
       "      <td>0.916667</td>\n",
       "      <td>0.750</td>\n",
       "      <td>0.800000</td>\n",
       "      <td>0.685714</td>\n",
       "      <td>0.811321</td>\n",
       "      <td>0.847179</td>\n",
       "      <td>...</td>\n",
       "      <td>0.769231</td>\n",
       "      <td>0.666667</td>\n",
       "      <td>0.671875</td>\n",
       "      <td>0.663741</td>\n",
       "      <td>0.671875</td>\n",
       "      <td>0.333333</td>\n",
       "      <td>0.846154</td>\n",
       "      <td>0.600000</td>\n",
       "      <td>0.833333</td>\n",
       "      <td>0.705882</td>\n",
       "    </tr>\n",
       "    <tr>\n",
       "      <th>3</th>\n",
       "      <td>0.730769</td>\n",
       "      <td>0.727500</td>\n",
       "      <td>0.729236</td>\n",
       "      <td>0.666667</td>\n",
       "      <td>0.700000</td>\n",
       "      <td>0.750</td>\n",
       "      <td>0.833333</td>\n",
       "      <td>0.687500</td>\n",
       "      <td>0.863636</td>\n",
       "      <td>0.903485</td>\n",
       "      <td>...</td>\n",
       "      <td>0.909091</td>\n",
       "      <td>0.733333</td>\n",
       "      <td>0.633333</td>\n",
       "      <td>0.619925</td>\n",
       "      <td>0.633333</td>\n",
       "      <td>0.500000</td>\n",
       "      <td>0.583333</td>\n",
       "      <td>0.600000</td>\n",
       "      <td>0.769231</td>\n",
       "      <td>0.647059</td>\n",
       "    </tr>\n",
       "    <tr>\n",
       "      <th>4</th>\n",
       "      <td>0.846154</td>\n",
       "      <td>0.728547</td>\n",
       "      <td>0.836163</td>\n",
       "      <td>0.500000</td>\n",
       "      <td>0.888889</td>\n",
       "      <td>0.500</td>\n",
       "      <td>0.933333</td>\n",
       "      <td>0.820513</td>\n",
       "      <td>0.956522</td>\n",
       "      <td>0.977778</td>\n",
       "      <td>...</td>\n",
       "      <td>1.000000</td>\n",
       "      <td>0.888889</td>\n",
       "      <td>0.758621</td>\n",
       "      <td>0.620714</td>\n",
       "      <td>0.758621</td>\n",
       "      <td>0.333333</td>\n",
       "      <td>0.800000</td>\n",
       "      <td>0.333333</td>\n",
       "      <td>0.875000</td>\n",
       "      <td>0.761905</td>\n",
       "    </tr>\n",
       "  </tbody>\n",
       "</table>\n",
       "<p>5 rows × 24 columns</p>\n",
       "</div>"
      ],
      "text/plain": [
       "   f1_score_micro  f1_score_macro  f1_score_weighted  f1_score_0  f1_score_1  \\\n",
       "0        0.716981        0.700708           0.712370    0.500000    0.814815   \n",
       "1        0.788991        0.789368           0.789247    0.800000    0.869565   \n",
       "2        0.735043        0.724594           0.723764    0.470588    0.916667   \n",
       "3        0.730769        0.727500           0.729236    0.666667    0.700000   \n",
       "4        0.846154        0.728547           0.836163    0.500000    0.888889   \n",
       "\n",
       "   f1_score_2  f1_score_3  f1_score_4  precision_score_micro  \\\n",
       "0       0.875    0.666667    0.647059               0.863636   \n",
       "1       0.750    0.800000    0.727273               0.934783   \n",
       "2       0.750    0.800000    0.685714               0.811321   \n",
       "3       0.750    0.833333    0.687500               0.863636   \n",
       "4       0.500    0.933333    0.820513               0.956522   \n",
       "\n",
       "   precision_score_macro  ...  precision_score_3  precision_score_4  \\\n",
       "0               0.896503  ...           0.636364           0.846154   \n",
       "1               0.921429  ...           1.000000           0.857143   \n",
       "2               0.847179  ...           0.769231           0.666667   \n",
       "3               0.903485  ...           0.909091           0.733333   \n",
       "4               0.977778  ...           1.000000           0.888889   \n",
       "\n",
       "   recall_score_micro  recall_score_macro  recall_score_weighted  \\\n",
       "0            0.612903            0.604484               0.612903   \n",
       "1            0.682540            0.696829               0.682540   \n",
       "2            0.671875            0.663741               0.671875   \n",
       "3            0.633333            0.619925               0.633333   \n",
       "4            0.758621            0.620714               0.758621   \n",
       "\n",
       "   recall_score_0  recall_score_1  recall_score_2  recall_score_3  \\\n",
       "0        0.333333        0.687500        0.777778        0.700000   \n",
       "1        0.666667        0.769231        0.750000        0.666667   \n",
       "2        0.333333        0.846154        0.600000        0.833333   \n",
       "3        0.500000        0.583333        0.600000        0.769231   \n",
       "4        0.333333        0.800000        0.333333        0.875000   \n",
       "\n",
       "   recall_score_4  \n",
       "0        0.523810  \n",
       "1        0.631579  \n",
       "2        0.705882  \n",
       "3        0.647059  \n",
       "4        0.761905  \n",
       "\n",
       "[5 rows x 24 columns]"
      ]
     },
     "execution_count": 34,
     "metadata": {},
     "output_type": "execute_result"
    }
   ],
   "source": [
    "results"
   ]
  },
  {
   "cell_type": "code",
   "execution_count": 52,
   "metadata": {},
   "outputs": [
    {
     "data": {
      "text/plain": [
       "[Text(1, 0, 'Micro average'),\n",
       " Text(2, 0, 'Macro average'),\n",
       " Text(3, 0, 'Coastal and marine Ecosystems'),\n",
       " Text(4, 0, 'Human and managed systems'),\n",
       " Text(5, 0, 'Mountains, snow and ice'),\n",
       " Text(6, 0, 'Rivers, lakes, and soil moisture'),\n",
       " Text(7, 0, 'Terrestrial ES')]"
      ]
     },
     "execution_count": 52,
     "metadata": {},
     "output_type": "execute_result"
    },
    {
     "data": {
      "image/png": "[encoded data removed]",
      "text/plain": [
       "<Figure size 504x720 with 3 Axes>"
      ]
     },
     "metadata": {
      "needs_background": "light"
     },
     "output_type": "display_data"
    }
   ],
   "source": [
    "# For the multilabel results we can show performance for each class\n",
    "results = pd.read_json(\"cv_data/12/outer_results_5_splits.json\")\n",
    "impact_labels = [\n",
    "    \"Coastal and marine Ecosystems\",\n",
    "    \"Human and managed systems\",\n",
    "    \"Mountains, snow and ice\",\n",
    "    \"Rivers, lakes, and soil moisture\",\n",
    "    \"Terrestrial ES\"\n",
    "]\n",
    "impact_indices = [x for x in range(len(impact_labels))]\n",
    "\n",
    "fig, axs = plt.subplots(3, figsize=(7,10), sharex=True, sharey=True)\n",
    "\n",
    "metrics = [\"f1_score\", \"recall_score\", \"precision_score\"]\n",
    "for i, metric in enumerate(metrics):\n",
    "    ax = axs[i]\n",
    "    ax.set_title(metric)\n",
    "    metric_labels = [f\"{metric}_{x}\" for x in [\"micro\", \"macro\"] + impact_indices]\n",
    "    for j, col in enumerate(metric_labels):\n",
    "        jitter = np.random.random(size=results.shape[0])*0.2 + j+0.9\n",
    "        ax.scatter(jitter, results[col], color=\"C0\")    \n",
    "        \n",
    "    ax.boxplot([results[col] for col in metric_labels], showfliers=False)\n",
    "    ax.grid(axis=\"y\")\n",
    "    \n",
    "impact_labels = [\"Micro average\", \"Macro average\"] + impact_labels\n",
    "ax.set_xticks(range(1,len(impact_labels)+1))\n",
    "ax.set_xticklabels(impact_labels, rotation=45, ha=\"right\")"
   ]
  }
 ],
 "metadata": {
  "kernelspec": {
   "display_name": "Python3.9 (py39)",
   "language": "python",
   "name": "py39"
  },
  "language_info": {
   "codemirror_mode": {
    "name": "ipython",
    "version": 3
   },
   "file_extension": ".py",
   "mimetype": "text/x-python",
   "name": "python",
   "nbconvert_exporter": "python",
   "pygments_lexer": "ipython3",
   "version": "3.9.13"
  }
 },
 "nbformat": 4,
 "nbformat_minor": 4
}
