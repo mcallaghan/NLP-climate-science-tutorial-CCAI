{
 "cells": [
  {
   "cell_type": "markdown",
   "metadata": {},
   "source": [
    "# Model evaluation\n",
    "\n",
    "Now we know how to build a model, we need to \n",
    "- choose the best model, \n",
    "- estimate our chosen model's performance, \n",
    "- make predictions for the documents we haven't seen \n",
    "\n",
    "First we will look at the basics of evaluation model outputs\n",
    "\n",
    "## Metrics\n",
    "\n",
    "When we have labelled data, evaluation works by comparing the labels we gave to the labels the model predicts. The closer the predicted labels are to the true labels, the better our model. **Metrics** quantify different aspects of that closeness, and we'll explore a few of the commonly used ones"
   ]
  },
  {
   "cell_type": "markdown",
   "metadata": {},
   "source": [
    "### Accuracy\n",
    "\n",
    "Accuracy is a frequently used metric, because it is very easy to understand and to explain. It simply describes the proportion of predictions which are correct:\n",
    "\n",
    "$ Accuracy = \\frac{CorrectPredictions}{TotalPredictions} $"
   ]
  },
  {
   "cell_type": "code",
   "execution_count": 1,
   "metadata": {},
   "outputs": [
    {
     "name": "stdout",
     "output_type": "stream",
     "text": [
      "8 correct predictions out of 10 total predictions.\n",
      "Accuracy = 80%\n"
     ]
    }
   ],
   "source": [
    "import numpy as np\n",
    "\n",
    "# Let's exam\n",
    "y_pred = np.array([0, 0, 0, 0, 0, 1, 1, 0, 0, 0])\n",
    "y_true = np.array([0, 0, 0, 0, 1, 1, 0, 0, 0, 0])\n",
    "\n",
    "def calculate_accuracy(y_true, y_pred):\n",
    "    total_predictions = y_true.size\n",
    "    correct_predictions = (y_pred==y_true).sum()\n",
    "    accuracy = correct_predictions / total_predictions\n",
    "    print(f\"{correct_predictions} correct predictions out of {total_predictions} total predictions.\\nAccuracy = {accuracy:.0%}\")\n",
    "    \n",
    "calculate_accuracy(y_true, y_pred)"
   ]
  },
  {
   "cell_type": "markdown",
   "metadata": {},
   "source": [
    "This seems pretty good, but because the classes are imbalanced, we could get exactly the same accuracy just by predicting 0 for each sample "
   ]
  },
  {
   "cell_type": "code",
   "execution_count": 15,
   "metadata": {},
   "outputs": [
    {
     "name": "stdout",
     "output_type": "stream",
     "text": [
      "8 correct predictions out of 10 total predictions.\n",
      "Accuracy = 80%\n"
     ]
    }
   ],
   "source": [
    "calculate_accuracy(y_true, np.zeros(y_true.size))"
   ]
  },
  {
   "cell_type": "markdown",
   "metadata": {},
   "source": [
    "Accuracy only tells a part of the story, and under quite common conditions, this story can be misleading. \n",
    "\n",
    "Let's therefore take a look at some other metrics that give us more specific information about how the model performs, and tells us what kinds of mistakes it tends to make how frequently\n",
    "\n",
    "## Precision and Recall\n",
    "\n",
    "Predictions can have two types of errors: false positives (where a sample is positive and it is predicted to be negative) & false negatives (where a sample is negative and it is predicted to be positive). Correspondingly there are also two types of correct predictions: true positives & true negatives. In different contexts, these types of errors can have different costs. For example, in health screening applications, false negatives can carry very high costs, as they could result in a serious condition going untreated. Precision and recall are ways of describing the prevalence of each type of error.\n",
    "\n",
    "### Precision\n",
    "\n",
    "Precision describes the fraction of samples predicted to be positive that are actually positive. \n",
    "\n",
    "$ Precision = \\frac{TruePositives}{TruePositives + FalsePositives} $\n",
    "\n",
    "In other words, if a classifier identifies 100 samples as true, precision tells us how many of those samples are actually true.\n",
    "\n",
    "### Recall\n",
    "\n",
    "Recall describes the fraction of positive samples which are identified by the classifier.\n",
    "\n",
    "$ Recall = \\frac{TruePositives}{TruePositives + FalseNegatives} $\n",
    "\n",
    "In other words, if 100 samples are true, recall tells us how many of those samples our classifier will identify.\n",
    "\n",
    "## F1\n",
    "\n",
    "The F1 score is the average of the precision and recall. It can be weighted (in which case it becomes an $ F{\\beta} $ score if we value either precision or recall more highly\n"
   ]
  },
  {
   "cell_type": "code",
   "execution_count": 19,
   "metadata": {},
   "outputs": [
    {
     "name": "stdout",
     "output_type": "stream",
     "text": [
      "1 out of 2 predicted positives are actually positive\n",
      "precision = 50%\n",
      "0 out of 0 predicted positives are actually positive\n",
      "precision = nan%\n"
     ]
    },
    {
     "name": "stderr",
     "output_type": "stream",
     "text": [
      "/tmp/ipykernel_23213/4293625237.py:4: RuntimeWarning: invalid value encountered in long_scalars\n",
      "  precision = tps / positive_predictions\n"
     ]
    }
   ],
   "source": [
    "def calculate_precision(y_true, y_pred):\n",
    "    tps = (y_true+y_pred==2).sum()\n",
    "    positive_predictions = (y_pred==1).sum()\n",
    "    precision = tps / positive_predictions\n",
    "    print(f\"{tps} out of {positive_predictions} predicted positives are actually positive\")\n",
    "    print(f\"precision = {precision:.0%}\")\n",
    "\n",
    "# Our predictions achieve a much more modest precision score\n",
    "calculate_precision(y_true, y_pred)\n",
    "# Whereas predicting all zeros gives us NA result as the denominator is zero\n",
    "calculate_precision(y_true, np.zeros(y_true.size))"
   ]
  },
  {
   "cell_type": "code",
   "execution_count": 21,
   "metadata": {},
   "outputs": [
    {
     "name": "stdout",
     "output_type": "stream",
     "text": [
      "1 out of 2 true samples are identified\n",
      "recall = 50%\n",
      "0 out of 2 true samples are identified\n",
      "recall = 0%\n"
     ]
    }
   ],
   "source": [
    "def calculate_recall(y_true, y_pred):\n",
    "    tps = (y_true+y_pred==2).sum()\n",
    "    positive_samples = (y_true==1).sum()\n",
    "    recall = tps / positive_samples\n",
    "    print(f\"{tps} out of {positive_samples} true samples are identified\")\n",
    "    print(f\"recall = {recall:.0%}\")\n",
    "\n",
    "# Recall is also more modest with our predictions\n",
    "calculate_recall(y_true, y_pred)\n",
    "# And a prediction of all zeros has zero recall\n",
    "calculate_recall(y_true, np.zeros(y_true.size))"
   ]
  },
  {
   "cell_type": "markdown",
   "metadata": {},
   "source": [
    "## Cross-validation\n",
    "\n",
    "To compare a model's output with the target data, we employ cross-validation to split the data into separate training and validation sets. We'll show how this works on a sample data set with 100 samples"
   ]
  },
  {
   "cell_type": "code",
   "execution_count": 88,
   "metadata": {},
   "outputs": [
    {
     "data": {
      "image/png": "[encoded data removed]",
      "text/plain": [
       "<Figure size 750x500 with 1 Axes>"
      ]
     },
     "metadata": {
      "needs_background": "light"
     },
     "output_type": "display_data"
    }
   ],
   "source": [
    "data_ids = np.arange(100)\n",
    "\n",
    "from sklearn.model_selection import KFold\n",
    "import matplotlib.pyplot as plt\n",
    "kf = KFold()\n",
    "fig, ax = plt.subplots(dpi=125)\n",
    "\n",
    "for i, (train_index, validation_index) in enumerate(kf.split(data_ids)):\n",
    "    ax.scatter(\n",
    "        train_index, [i]*train_index.size, \n",
    "        color=\"C0\", s=2, label=\"Train\" if i == 0 else \"\",\n",
    "        marker=\"s\"\n",
    "    )\n",
    "    ax.scatter(\n",
    "        validation_index, [i]*validation_index.size, \n",
    "        color=\"C1\", s=2, label=\"Validation\" if i == 0 else \"\",\n",
    "        marker=\"s\"\n",
    "    )\n",
    "    \n",
    "ax.legend(bbox_to_anchor=(1,1))\n",
    "ax.set_yticks(np.arange(i+1))\n",
    "\n",
    "plt.show()"
   ]
  },
  {
   "cell_type": "markdown",
   "metadata": {},
   "source": [
    "Each sample is used exactly once for validation. All other data is used for training a classifier, and its predictions for the validation set are compared to the true labels. It is important that the validation data is *never* seen during training."
   ]
  },
  {
   "cell_type": "markdown",
   "metadata": {},
   "source": [
    "## Hyperparameter tuning\n",
    "\n",
    "However, we don't want to just use one specification of a model, when we can potentially improve our results by selecting a specification which performs best on our data. By selecting a specification we mean choosing settings for processing and model set-up, known as **hyperparameters**."
   ]
  },
  {
   "cell_type": "code",
   "execution_count": 168,
   "metadata": {},
   "outputs": [
    {
     "name": "stdout",
     "output_type": "stream",
     "text": [
      "72\n"
     ]
    },
    {
     "data": {
      "text/plain": [
       "[{'clf__C': 1,\n",
       "  'clf__gamma': 0.001,\n",
       "  'clf__kernel': 'rbf',\n",
       "  'vect__max_df': 0.5,\n",
       "  'vect__min_df': 5,\n",
       "  'vect__ngram_range': (1, 1)},\n",
       " {'clf__C': 1,\n",
       "  'clf__gamma': 0.001,\n",
       "  'clf__kernel': 'rbf',\n",
       "  'vect__max_df': 0.5,\n",
       "  'vect__min_df': 5,\n",
       "  'vect__ngram_range': (1, 2)},\n",
       " {'clf__C': 1,\n",
       "  'clf__gamma': 0.001,\n",
       "  'clf__kernel': 'rbf',\n",
       "  'vect__max_df': 0.5,\n",
       "  'vect__min_df': 15,\n",
       "  'vect__ngram_range': (1, 1)}]"
      ]
     },
     "execution_count": 168,
     "metadata": {},
     "output_type": "execute_result"
    }
   ],
   "source": [
    "from sklearn.svm import SVC\n",
    "from sklearn.pipeline import Pipeline\n",
    "from sklearn.feature_extraction.text import TfidfVectorizer\n",
    "from sklearn.model_selection import GridSearchCV, ParameterGrid\n",
    "\n",
    "# This is the pipeline we used before\n",
    "pipeline = Pipeline(steps=[\n",
    "    (\"vect\", TfidfVectorizer()), \n",
    "    (\"clf\", SVC(probability=True, class_weight=\"balanced\"))\n",
    "])\n",
    "\n",
    "# Here we define the parameters, those starting with \"vect__\" are given as arguments to the vectorizer\n",
    "# those starting with clf are given as arguments to the classifier\n",
    "\n",
    "parameters = [\n",
    "    {\n",
    "        'vect__max_df': (0.5, 0.8), # This is the maxmimum proportion of documents a term can appear in\n",
    "        'vect__min_df': (5, 15), # This is the minimum number of documents a term can appear in\n",
    "        'vect__ngram_range': ((1, 1), (1, 2)),  # these are the possible sizes of the ngrams we tokenize into\n",
    "        'clf__kernel': ['rbf'], # This is the kernel function https://scikit-learn.org/stable/modules/svm.html#svm-kernels\n",
    "        'clf__gamma': [1e-3, 1e-4], # Because only the rbf kernel has the gamma parameters, we do this separately\n",
    "        'clf__C': [1, 1e1, 1e2] # The C parameter (large = risk of overfit, small risk of underfit) https://stats.stackexchange.com/a/159051\n",
    "    },\n",
    "    {\n",
    "        'vect__max_df': (0.5,0.8),\n",
    "        'vect__min_df': (5, 15),\n",
    "        'vect__ngram_range': ((1, 1), (1, 2)),  \n",
    "        'clf__kernel': ['linear'], \n",
    "        'clf__C': [1, 1e1, 1e2]\n",
    "    }\n",
    "]\n",
    "\n",
    "# The parameter grid gives us the unique combinations\n",
    "grid = list(ParameterGrid(parameters))\n",
    "print(len(grid))\n",
    "grid[:3]"
   ]
  },
  {
   "cell_type": "markdown",
   "metadata": {},
   "source": [
    "Now we could do cross-validation for each of these 72 combinations of parameters. However, the performance we achieve on the validation sets would likely be over-optimistic. \n",
    "\n",
    "Why?\n",
    "\n",
    "<br>\n",
    "<br>\n",
    "<br>\n",
    "\n",
    "The hyperparameters would be likely **overfit** to the data we have. Information can leak into the model from the validation data.\n",
    "\n",
    "One way of dealing with this is to separate a **test** set of data, which is never seen in the hyperparameter tuning procedure\n",
    "\n"
   ]
  },
  {
   "cell_type": "code",
   "execution_count": 87,
   "metadata": {},
   "outputs": [
    {
     "data": {
      "image/png": "[encoded data removed]",
      "text/plain": [
       "<Figure size 750x500 with 1 Axes>"
      ]
     },
     "metadata": {
      "needs_background": "light"
     },
     "output_type": "display_data"
    }
   ],
   "source": [
    "from sklearn.model_selection import train_test_split\n",
    "\n",
    "# First we split off the test data from what we will be using for cross validation\n",
    "cv, test = train_test_split(data_ids, shuffle=False, test_size=0.2)\n",
    "\n",
    "fig, ax = plt.subplots(dpi=125)\n",
    "\n",
    "# Now we split the cv part into individual training and test sets\n",
    "kf = KFold()\n",
    "for i, (train_index, validation_index) in enumerate(kf.split(cv)):\n",
    "    ax.scatter(\n",
    "        cv[train_index], [i]*train_index.size, \n",
    "        color=\"C0\", s=2, label=\"Train\" if i == 0 else \"\",\n",
    "        marker=\"s\"\n",
    "    )\n",
    "    ax.scatter(\n",
    "        cv[validation_index], [i]*validation_index.size, \n",
    "        color=\"C1\", s=2, label=\"Validation\" if i == 0 else \"\",\n",
    "        marker=\"s\"\n",
    "    )\n",
    "    ax.scatter(\n",
    "        test, [i]*test.size, \n",
    "        color=\"C3\", s=2, label=\"Test\" if i == 0 else \"\",\n",
    "        marker=\"s\"\n",
    "    )\n",
    "    \n",
    "ax.legend(bbox_to_anchor=(1,1))\n",
    "ax.set_yticks(np.arange(i+1))\n",
    "\n",
    "plt.show()\n"
   ]
  },
  {
   "cell_type": "markdown",
   "metadata": {},
   "source": [
    "This is one way of treating the problem that is safe from overfitting. One problem with this approach though, is that the results are highly dependent on our test split. Where data is scarce, and classes are imbalanced, we may have few examples of particular classes in there."
   ]
  },
  {
   "cell_type": "markdown",
   "metadata": {},
   "source": [
    "## Nested cross validation\n",
    "\n",
    "Nested cross validation is another way to separate hyperparameter tuning from estimating the performance of our chosen classifier. In essence we do two steps of cross-validation - one for each task - making sure that the samples used to assess performance are **never** seen during the process of selecting hyperparameters."
   ]
  },
  {
   "cell_type": "code",
   "execution_count": 106,
   "metadata": {},
   "outputs": [
    {
     "data": {
      "image/png": "[encoded data removed]",
      "text/plain": [
       "<Figure size 750x500 with 1 Axes>"
      ]
     },
     "metadata": {
      "needs_background": "light"
     },
     "output_type": "display_data"
    }
   ],
   "source": [
    "fig, ax = plt.subplots(dpi=125)\n",
    "\n",
    "outer_fold = KFold()\n",
    "for i, (outer_train_index, test_index) in enumerate(outer_fold.split(data_ids)):\n",
    "    ax.scatter(\n",
    "        outer_train_index, [i]*outer_train_index.size, \n",
    "        color=\"C0\", s=2, label=\"Outer Train\" if i == 0 else \"\",\n",
    "        marker=\"s\"\n",
    "    )\n",
    "    ax.scatter(\n",
    "        test_index, [i]*test_index.size, \n",
    "        color=\"C1\", s=2, label=\"Outer Test\" if i == 0 else \"\",\n",
    "        marker=\"s\"\n",
    "    )\n",
    "    inner_fold = KFold()\n",
    "    for j, (inner_train_index, inner_validation_index) in enumerate(inner_fold.split(outer_train_index)):\n",
    "        ax.scatter(\n",
    "            outer_train_index[inner_train_index], [i+(j+1)*0.1]*inner_train_index.size,\n",
    "            color=\"C2\", s=2, label=\"Inner Train\" if i+j == 0 else \"\",\n",
    "            marker=\"s\"\n",
    "        )\n",
    "        ax.scatter(\n",
    "            outer_train_index[inner_validation_index], [i+(j+1)*0.1]*inner_validation_index.size,\n",
    "            color=\"C3\", s=2, label=\"Inner validation\" if i+j == 0 else \"\",\n",
    "            marker=\"s\"\n",
    "        )\n",
    "            \n",
    "ax.legend(bbox_to_anchor=(1,1))\n",
    "ax.set_yticks(np.arange(i+1))\n",
    "\n",
    "plt.show()"
   ]
  },
  {
   "cell_type": "markdown",
   "metadata": {},
   "source": [
    "The outer folds deal with performance estimation, while the inner folds deal with hyperparameter optimization.\n",
    "\n",
    "In each of the outer folds a test set is separated from a training set. This training set is split into 5 inner train-validation splits. Each combination of parameters is used to train a classifier for each inner training set, and the predictions are assessed against each inner validation set. The parameters which achieve the best performance averaged over the inner splits are chosen as the best parameters *in this given outer split*, and a model is trained with these parameters on the outer train set, and assessed against the outer test set.\n",
    "\n",
    "<br>\n",
    "\n",
    "You may notice that this does not result in a single model which we can use for predictions for our unseen data. The 5 models are selected across each outer fold may contain different parameters. All we have done so far is **search our parameter space** and **validated our parameter selection procedure**. \n",
    "\n",
    "To develop the model we want to use, we now **do our parameters selection procedure**. We need to do one more pass through the outer folds, assessing each set of parameters against each outer train-test split. The set of of parameters that achieves the best results is the one we choose.\n",
    "\n",
    "The whole procedure looks like this \n",
    "\n",
    "\n",
    "```\n",
    "for each train, test split in the outer fold:\n",
    "\n",
    "    for each inner_train, test split in the inner fold:\n",
    "        for each combination of parameters:\n",
    "            fit the model with this parameter set on the inner train set;\n",
    "            make predictions with the model for the inner validation set;\n",
    "            compare predictions to true values and save perfomance metrics;\n",
    "            \n",
    "    choose the parameter set with the best performance across this train set;\n",
    "    fit a model with this parameter set on this train set;\n",
    "    make predictions for the test set and save performance metrics; \n",
    "    report these predictions;\n",
    "    \n",
    "    for each combination of parameters:\n",
    "        fit the model with this parameter set on the train set;\n",
    "        make predictions for the test set and save performance metrics;\n",
    "        \n",
    "choose the parameter set with the best performance across outer test sets;\n",
    "use this model to make predictions on the unseen data;\n",
    "        \n",
    "```\n",
    "\n",
    "We can try a minimal example with some real data below"
   ]
  },
  {
   "cell_type": "code",
   "execution_count": 173,
   "metadata": {},
   "outputs": [],
   "source": [
    "# First we need to load the data\n",
    "\n",
    "import pandas as pd\n",
    "import re\n",
    "\n",
    "labelled_data = pd.read_csv(\"data/labelled_data.csv\")\n",
    "\n",
    "# We create a lower case version of the title without spaces and punctuation, to allow for merging\n",
    "labelled_data[\"title_lcase\"] = labelled_data[\"title\"].apply(lambda x: re.sub(\"\\W\",\"\",x).lower())\n",
    "# We also want to get rid of documents without abstracts, as we can't use these for learning\n",
    "labelled_data = labelled_data.dropna(subset=[\"abstract\"])\n",
    "\n",
    "# Now we load the Open alex data, and create the same title variable for merging\n",
    "\n",
    "oa_data = pd.read_csv(\"data/openalex_data.csv\").rename(columns={\"id\": \"OA_id\"})\n",
    "oa_data[\"title_lcase\"] = oa_data[\"title\"].apply(lambda x: re.sub(\"\\W\",\"\",x).lower())\n",
    "oa_data = oa_data.dropna(subset=[\"abstract\"])\n",
    "oa_data[\"seen\"] = 0\n",
    "\n",
    "# Now we add the OpenAlex rows which are not in the labelled data to the labelled_data\n",
    "df = pd.concat([\n",
    "    labelled_data.sample(500), # just take a sample of each\n",
    "    oa_data[~oa_data['title_lcase'].isin(labelled_data['title_lcase'])].sample(100)\n",
    "]).reset_index(drop=True)\n"
   ]
  },
  {
   "cell_type": "code",
   "execution_count": null,
   "metadata": {},
   "outputs": [],
   "source": []
  },
  {
   "cell_type": "code",
   "execution_count": 205,
   "metadata": {},
   "outputs": [
    {
     "name": "stdout",
     "output_type": "stream",
     "text": [
      "Assessing outer training loop 0 with 250 training samples\n",
      "Assessing inner training loop 0 with 125 training samples\n",
      "Assessing inner training loop 1 with 125 training samples\n",
      "Searching parameters on outer loop 0\n",
      "Assessing outer training loop 1 with 250 training samples\n",
      "Assessing inner training loop 0 with 125 training samples\n",
      "Assessing inner training loop 1 with 125 training samples\n",
      "Searching parameters on outer loop 1\n"
     ]
    },
    {
     "data": {
      "text/plain": [
       "array([1., 1., 1., 0., 0., 1., 0., 1., 0., 1., 0., 1., 0., 1., 1., 1., 0.,\n",
       "       0., 0., 1., 0., 1., 1., 0., 0., 1., 1., 1., 0., 1., 0., 1., 0., 0.,\n",
       "       1., 0., 1., 0., 1., 1., 1., 0., 0., 1., 0., 0., 1., 1., 1., 0., 0.,\n",
       "       0., 1., 0., 0., 1., 0., 0., 0., 1., 1., 1., 0., 0., 1., 0., 1., 1.,\n",
       "       0., 1., 1., 0., 0., 0., 0., 1., 1., 0., 0., 0., 1., 1., 1., 0., 1.,\n",
       "       0., 1., 0., 0., 1., 0., 1., 0., 1., 1., 1., 1., 1., 0., 0., 1., 1.,\n",
       "       0., 1., 1., 0., 1., 0., 0., 1., 0., 0., 0., 0., 1., 1., 1., 1., 0.,\n",
       "       0., 1., 1., 0., 1., 0., 0., 0., 0., 0., 1., 1., 1., 0., 0., 1., 0.,\n",
       "       1., 1., 0., 0., 1., 0., 0., 1., 1., 0., 0., 1., 1., 1., 0., 0., 1.,\n",
       "       1., 1., 0., 1., 1., 1., 1., 0., 0., 0., 0., 1., 0., 0., 0., 1., 1.,\n",
       "       1., 0., 0., 1., 1., 0., 0., 1., 0., 1., 1., 0., 0., 0., 0., 1., 0.,\n",
       "       1., 1., 0., 0., 1., 0., 1., 1., 1., 0., 0., 0., 1., 0., 1., 1., 0.,\n",
       "       0., 0., 0., 0., 0., 0., 1., 0., 1., 1., 1., 0., 1., 0., 1., 1., 1.,\n",
       "       1., 1., 1., 1., 1., 0., 0., 1., 1., 0., 1., 1., 1., 0., 1., 1., 0.,\n",
       "       0., 0., 1., 1., 1., 1., 0., 0., 1., 0., 0., 0.])"
      ]
     },
     "execution_count": 205,
     "metadata": {},
     "output_type": "execute_result"
    }
   ],
   "source": [
    "from sklearn.metrics import f1_score\n",
    "import random\n",
    "\n",
    "labelled_index = df[df['seen']==1].index\n",
    "X = df[\"abstract\"].values\n",
    "y = df[\"INCLUDE\"].values\n",
    "\n",
    "inner_fold = KFold(n_splits=2)\n",
    "outer_fold = KFold(n_splits=2)\n",
    "\n",
    "# let's take a small random combination of parameter combinations to save time\n",
    "parameter_combinations = random.choices(list(ParameterGrid(parameters)), k=5) \n",
    "\n",
    "outer_results = []\n",
    "\n",
    "outer_search_results = []\n",
    "\n",
    "for i, (o_train_index, test_index) in enumerate(outer_fold.split(labelled_index)):\n",
    "    print(f\"Assessing outer training loop {i} with {len(o_train_index)} training samples\")\n",
    "    inner_results = []\n",
    "    for j, (i_train_index, i_val_index) in enumerate(inner_fold.split(o_train_index)):\n",
    "        print(f\"Assessing inner training loop {j} with {len(i_train_index)} training samples\")\n",
    "        for k, param_set in enumerate(parameter_combinations): \n",
    "            clf = pipeline.set_params(**param_set)\n",
    "            clf.fit(\n",
    "                X[labelled_index[o_train_index[i_train_index]]], \n",
    "                y[labelled_index[o_train_index[i_train_index]]] \n",
    "            ) \n",
    "            y_pred = clf.predict(X[labelled_index[o_train_index[i_val_index]]])\n",
    "            score = f1_score(y[labelled_index[o_train_index[i_val_index]]], y_pred)\n",
    "            inner_results.append({\"param_id\": k, \"score\": score})\n",
    "            \n",
    "    # Get parameter_id with best results\n",
    "    best_param_id = (pd.DataFrame(inner_results)\n",
    "                     .groupby(\"param_id\")[\"score\"]\n",
    "                     .mean()\n",
    "                     .sort_values(ascending=False).index[0]\n",
    "                    )\n",
    "    clf = pipeline.set_params(**parameter_combinations[best_param_id])\n",
    "    clf.fit(\n",
    "        X[labelled_index[o_train_index]], \n",
    "        y[labelled_index[o_train_index]]     \n",
    "    )\n",
    "    y_pred = clf.predict(X[labelled_index[o_train_index]])\n",
    "    score = f1_score(y[labelled_index[test_index]], y_pred)\n",
    "    outer_results.append(score)\n",
    "    \n",
    "    \n",
    "    # Now do parameter search on the outer data\n",
    "    print(f\"Searching parameters on outer loop {i}\")\n",
    "    \n",
    "    for k, param_set in enumerate(parameter_combinations): \n",
    "        clf = pipeline.set_params(**param_set)\n",
    "        clf.fit(\n",
    "            X[labelled_index[o_train_index]], \n",
    "            y[labelled_index[o_train_index]]     \n",
    "        )\n",
    "        y_pred = clf.predict(X[labelled_index[o_train_index]])\n",
    "        score = f1_score(y[labelled_index[test_index]], y_pred)\n",
    "        outer_search_results.append({\"param_id\": k, \"score\": score})\n",
    "        \n",
    "# Get parameter_id with best results\n",
    "best_param_id = (pd.DataFrame(outer_search_results)\n",
    "                 .groupby(\"param_id\")[\"score\"]\n",
    "                 .mean()\n",
    "                 .sort_values(ascending=False).index[0]\n",
    "                )\n",
    "\n",
    "clf = pipeline.set_params(**parameter_combinations[best_param_id])\n",
    "clf.fit(\n",
    "    X[labelled_index], # Now we fit on all the labelled data!\n",
    "    y[labelled_index]     \n",
    ")\n",
    "\n",
    "# These are our final results!\n",
    "y_pred = clf.predict(X[labelled_index[o_train_index]])\n",
    "y_pred"
   ]
  }
 ],
 "metadata": {
  "kernelspec": {
   "display_name": "Python3.9 (py39)",
   "language": "python",
   "name": "py39"
  },
  "language_info": {
   "codemirror_mode": {
    "name": "ipython",
    "version": 3
   },
   "file_extension": ".py",
   "mimetype": "text/x-python",
   "name": "python",
   "nbconvert_exporter": "python",
   "pygments_lexer": "ipython3",
   "version": "3.9.13"
  }
 },
 "nbformat": 4,
 "nbformat_minor": 4
}
