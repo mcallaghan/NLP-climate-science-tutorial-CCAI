{
 "cells": [
  {
   "cell_type": "markdown",
   "metadata": {},
   "source": [
    "# Model Pipeline\n",
    "\n",
    "[![colab badge](https://colab.research.google.com/assets/colab-badge.svg)](https://colab.research.google.com/github/mcallaghan/NLP-climate-science-tutorial-CCAI/blob/main/B_model_pipeline.ipynb)\n",
    "\n",
    "In this notebook we'll go through the steps we need to take to load labelled data and train a model to predict a label based on text input. We'll start off with a simple model using Support Vector Machines (SVMs), before exploring how we would do this using by fine-tuning a language model using [transformers](https://huggingface.co/docs/transformers/index) 🤗"
   ]
  },
  {
   "cell_type": "markdown",
   "metadata": {
    "tags": []
   },
   "source": [
    "## Data\n",
    "\n",
    "We'll start by loading our labels and merging these with the studies we downloaded from OpenAlex"
   ]
  },
  {
   "cell_type": "code",
   "execution_count": 1,
   "metadata": {},
   "outputs": [],
   "source": [
    "import matplotlib.pyplot as plt\n",
    "import numpy as np\n",
    "import pandas as pd\n",
    "import os\n",
    "\n",
    "## If we are running in colab, mount google drive and change into the directory we cloned the repository into\n",
    "if os.path.exists(\"/content/\"):\n",
    "    from google.colab import drive\n",
    "    import os\n",
    "    drive.mount('/content/drive')\n",
    "    os.chdir(\"/content/drive/MyDrive/NLP-climate-science-tutorial-CCAI\")    "
   ]
  },
  {
   "cell_type": "code",
   "execution_count": 3,
   "metadata": {},
   "outputs": [
    {
     "name": "stdout",
     "output_type": "stream",
     "text": [
      "(2500, 11)\n"
     ]
    },
    {
     "data": {
      "text/html": [
       "<div>\n",
       "<style scoped>\n",
       "    .dataframe tbody tr th:only-of-type {\n",
       "        vertical-align: middle;\n",
       "    }\n",
       "\n",
       "    .dataframe tbody tr th {\n",
       "        vertical-align: top;\n",
       "    }\n",
       "\n",
       "    .dataframe thead th {\n",
       "        text-align: right;\n",
       "    }\n",
       "</style>\n",
       "<table border=\"1\" class=\"dataframe\">\n",
       "  <thead>\n",
       "    <tr style=\"text-align: right;\">\n",
       "      <th></th>\n",
       "      <th>id</th>\n",
       "      <th>abstract</th>\n",
       "      <th>title</th>\n",
       "      <th>seen</th>\n",
       "      <th>INCLUDE</th>\n",
       "      <th>12 - Coastal and marine Ecosystems</th>\n",
       "      <th>12 - Human and managed</th>\n",
       "      <th>12 - Mountains, snow and ice</th>\n",
       "      <th>12 - Rivers, lakes, and soil moisture</th>\n",
       "      <th>12 - Terrestrial ES</th>\n",
       "      <th>title_lcase</th>\n",
       "    </tr>\n",
       "  </thead>\n",
       "  <tbody>\n",
       "    <tr>\n",
       "      <th>0</th>\n",
       "      <td>1448689</td>\n",
       "      <td>The city of Bismarck, North Dakota has one of ...</td>\n",
       "      <td>Key Factors Influencing the Incidence of West ...</td>\n",
       "      <td>1.0</td>\n",
       "      <td>0.0</td>\n",
       "      <td>0.0</td>\n",
       "      <td>1.0</td>\n",
       "      <td>0.0</td>\n",
       "      <td>0.0</td>\n",
       "      <td>0.0</td>\n",
       "      <td>keyfactorsinfluencingtheincidenceofwestnilevir...</td>\n",
       "    </tr>\n",
       "    <tr>\n",
       "      <th>1</th>\n",
       "      <td>3281128</td>\n",
       "      <td>Changing precipitation regimes can profoundly ...</td>\n",
       "      <td>Asymmetric responses of plant community struct...</td>\n",
       "      <td>1.0</td>\n",
       "      <td>1.0</td>\n",
       "      <td>0.0</td>\n",
       "      <td>0.0</td>\n",
       "      <td>0.0</td>\n",
       "      <td>0.0</td>\n",
       "      <td>1.0</td>\n",
       "      <td>asymmetricresponsesofplantcommunitystructurean...</td>\n",
       "    </tr>\n",
       "    <tr>\n",
       "      <th>2</th>\n",
       "      <td>900708</td>\n",
       "      <td>Climate influences forest structure through ef...</td>\n",
       "      <td>Climate effects on fire regimes and tree recru...</td>\n",
       "      <td>1.0</td>\n",
       "      <td>1.0</td>\n",
       "      <td>0.0</td>\n",
       "      <td>0.0</td>\n",
       "      <td>0.0</td>\n",
       "      <td>0.0</td>\n",
       "      <td>1.0</td>\n",
       "      <td>climateeffectsonfireregimesandtreerecruitmenti...</td>\n",
       "    </tr>\n",
       "    <tr>\n",
       "      <th>3</th>\n",
       "      <td>3234419</td>\n",
       "      <td>Climate change is likely to bring more, hotter...</td>\n",
       "      <td>Climate change adaptation and mitigation ? a h...</td>\n",
       "      <td>1.0</td>\n",
       "      <td>1.0</td>\n",
       "      <td>0.0</td>\n",
       "      <td>1.0</td>\n",
       "      <td>0.0</td>\n",
       "      <td>0.0</td>\n",
       "      <td>0.0</td>\n",
       "      <td>climatechangeadaptationandmitigationahitherton...</td>\n",
       "    </tr>\n",
       "    <tr>\n",
       "      <th>4</th>\n",
       "      <td>2090028</td>\n",
       "      <td>Aim The long-term stability of coastal ecosyst...</td>\n",
       "      <td>Caribbean mangroves adjust to rising sea level...</td>\n",
       "      <td>1.0</td>\n",
       "      <td>1.0</td>\n",
       "      <td>1.0</td>\n",
       "      <td>0.0</td>\n",
       "      <td>0.0</td>\n",
       "      <td>0.0</td>\n",
       "      <td>0.0</td>\n",
       "      <td>caribbeanmangrovesadjusttorisingsealevelthroug...</td>\n",
       "    </tr>\n",
       "  </tbody>\n",
       "</table>\n",
       "</div>"
      ],
      "text/plain": [
       "        id                                           abstract  \\\n",
       "0  1448689  The city of Bismarck, North Dakota has one of ...   \n",
       "1  3281128  Changing precipitation regimes can profoundly ...   \n",
       "2   900708  Climate influences forest structure through ef...   \n",
       "3  3234419  Climate change is likely to bring more, hotter...   \n",
       "4  2090028  Aim The long-term stability of coastal ecosyst...   \n",
       "\n",
       "                                               title  seen  INCLUDE  \\\n",
       "0  Key Factors Influencing the Incidence of West ...   1.0      0.0   \n",
       "1  Asymmetric responses of plant community struct...   1.0      1.0   \n",
       "2  Climate effects on fire regimes and tree recru...   1.0      1.0   \n",
       "3  Climate change adaptation and mitigation ? a h...   1.0      1.0   \n",
       "4  Caribbean mangroves adjust to rising sea level...   1.0      1.0   \n",
       "\n",
       "   12 - Coastal and marine Ecosystems  12 - Human and managed  \\\n",
       "0                                 0.0                     1.0   \n",
       "1                                 0.0                     0.0   \n",
       "2                                 0.0                     0.0   \n",
       "3                                 0.0                     1.0   \n",
       "4                                 1.0                     0.0   \n",
       "\n",
       "   12 - Mountains, snow and ice  12 - Rivers, lakes, and soil moisture  \\\n",
       "0                           0.0                                    0.0   \n",
       "1                           0.0                                    0.0   \n",
       "2                           0.0                                    0.0   \n",
       "3                           0.0                                    0.0   \n",
       "4                           0.0                                    0.0   \n",
       "\n",
       "   12 - Terrestrial ES                                        title_lcase  \n",
       "0                  0.0  keyfactorsinfluencingtheincidenceofwestnilevir...  \n",
       "1                  1.0  asymmetricresponsesofplantcommunitystructurean...  \n",
       "2                  1.0  climateeffectsonfireregimesandtreerecruitmenti...  \n",
       "3                  0.0  climatechangeadaptationandmitigationahitherton...  \n",
       "4                  0.0  caribbeanmangrovesadjusttorisingsealevelthroug...  "
      ]
     },
     "execution_count": 3,
     "metadata": {},
     "output_type": "execute_result"
    }
   ],
   "source": [
    "labelled_data = pd.read_csv(\"data/labelled_data.csv\")\n",
    "\n",
    "# We create a lower case version of the title without spaces and punctuation, to allow for merging\n",
    "labelled_data[\"title_lcase\"] = labelled_data[\"title\"].apply(\n",
    "    lambda x: re.sub(\"\\W\", \"\", x).lower()\n",
    ")\n",
    "# We also want to get rid of documents without abstracts, as we can't use these for learning\n",
    "labelled_data = labelled_data.dropna(subset=[\"abstract\"])\n",
    "print(labelled_data.shape)\n",
    "labelled_data.head()"
   ]
  },
  {
   "cell_type": "code",
   "execution_count": 4,
   "metadata": {},
   "outputs": [
    {
     "name": "stdout",
     "output_type": "stream",
     "text": [
      "(8310, 8)\n"
     ]
    },
    {
     "data": {
      "text/html": [
       "<div>\n",
       "<style scoped>\n",
       "    .dataframe tbody tr th:only-of-type {\n",
       "        vertical-align: middle;\n",
       "    }\n",
       "\n",
       "    .dataframe tbody tr th {\n",
       "        vertical-align: top;\n",
       "    }\n",
       "\n",
       "    .dataframe thead th {\n",
       "        text-align: right;\n",
       "    }\n",
       "</style>\n",
       "<table border=\"1\" class=\"dataframe\">\n",
       "  <thead>\n",
       "    <tr style=\"text-align: right;\">\n",
       "      <th></th>\n",
       "      <th>OA_id</th>\n",
       "      <th>doi</th>\n",
       "      <th>title</th>\n",
       "      <th>publication_year</th>\n",
       "      <th>abstract</th>\n",
       "      <th>authors</th>\n",
       "      <th>title_lcase</th>\n",
       "      <th>seen</th>\n",
       "    </tr>\n",
       "  </thead>\n",
       "  <tbody>\n",
       "    <tr>\n",
       "      <th>0</th>\n",
       "      <td>https://openalex.org/W2076977109</td>\n",
       "      <td>https://doi.org/10.1038/nature03906</td>\n",
       "      <td>Increasing destructiveness of tropical cyclone...</td>\n",
       "      <td>2005</td>\n",
       "      <td>Theory and modelling predict that hurricane in...</td>\n",
       "      <td>Kerry Emanuel</td>\n",
       "      <td>increasingdestructivenessoftropicalcyclonesove...</td>\n",
       "      <td>0</td>\n",
       "    </tr>\n",
       "    <tr>\n",
       "      <th>1</th>\n",
       "      <td>https://openalex.org/W2122582889</td>\n",
       "      <td>https://doi.org/10.1073/pnas.0505734102</td>\n",
       "      <td>Regional vegetation die-off in response to glo...</td>\n",
       "      <td>2005</td>\n",
       "      <td>Future drought is projected to occur under war...</td>\n",
       "      <td>David D. Breshears, Neil S. Cobb, Paul M. Rich...</td>\n",
       "      <td>regionalvegetationdieoffinresponsetoglobalchan...</td>\n",
       "      <td>0</td>\n",
       "    </tr>\n",
       "    <tr>\n",
       "      <th>2</th>\n",
       "      <td>https://openalex.org/W2171979944</td>\n",
       "      <td>https://doi.org/10.1007/s00425-003-1105-5</td>\n",
       "      <td>Plant responses to drought, salinity and extre...</td>\n",
       "      <td>2003</td>\n",
       "      <td>Abiotic stresses, such as drought, salinity, e...</td>\n",
       "      <td>Wangxia Wang, Basia Vinocur, Arie Altman</td>\n",
       "      <td>plantresponsestodroughtsalinityandextremetempe...</td>\n",
       "      <td>0</td>\n",
       "    </tr>\n",
       "    <tr>\n",
       "      <th>3</th>\n",
       "      <td>https://openalex.org/W2161828152</td>\n",
       "      <td>https://doi.org/10.1073/pnas.0901438106</td>\n",
       "      <td>Temperature sensitivity of drought-induced tre...</td>\n",
       "      <td>2009</td>\n",
       "      <td>Large-scale biogeographical shifts in vegetati...</td>\n",
       "      <td>Henry D. Adams, Maite Guardiola-Claramonte, Gr...</td>\n",
       "      <td>temperaturesensitivityofdroughtinducedtreemort...</td>\n",
       "      <td>0</td>\n",
       "    </tr>\n",
       "    <tr>\n",
       "      <th>4</th>\n",
       "      <td>https://openalex.org/W2612322017</td>\n",
       "      <td>NaN</td>\n",
       "      <td>Resilience of ecosystems: local surprise and g...</td>\n",
       "      <td>1985</td>\n",
       "      <td>Presents a conceptual framework that can help ...</td>\n",
       "      <td>C. S. Holling</td>\n",
       "      <td>resilienceofecosystemslocalsurpriseandglobalch...</td>\n",
       "      <td>0</td>\n",
       "    </tr>\n",
       "  </tbody>\n",
       "</table>\n",
       "</div>"
      ],
      "text/plain": [
       "                              OA_id  \\\n",
       "0  https://openalex.org/W2076977109   \n",
       "1  https://openalex.org/W2122582889   \n",
       "2  https://openalex.org/W2171979944   \n",
       "3  https://openalex.org/W2161828152   \n",
       "4  https://openalex.org/W2612322017   \n",
       "\n",
       "                                         doi  \\\n",
       "0        https://doi.org/10.1038/nature03906   \n",
       "1    https://doi.org/10.1073/pnas.0505734102   \n",
       "2  https://doi.org/10.1007/s00425-003-1105-5   \n",
       "3    https://doi.org/10.1073/pnas.0901438106   \n",
       "4                                        NaN   \n",
       "\n",
       "                                               title  publication_year  \\\n",
       "0  Increasing destructiveness of tropical cyclone...              2005   \n",
       "1  Regional vegetation die-off in response to glo...              2005   \n",
       "2  Plant responses to drought, salinity and extre...              2003   \n",
       "3  Temperature sensitivity of drought-induced tre...              2009   \n",
       "4  Resilience of ecosystems: local surprise and g...              1985   \n",
       "\n",
       "                                            abstract  \\\n",
       "0  Theory and modelling predict that hurricane in...   \n",
       "1  Future drought is projected to occur under war...   \n",
       "2  Abiotic stresses, such as drought, salinity, e...   \n",
       "3  Large-scale biogeographical shifts in vegetati...   \n",
       "4  Presents a conceptual framework that can help ...   \n",
       "\n",
       "                                             authors  \\\n",
       "0                                      Kerry Emanuel   \n",
       "1  David D. Breshears, Neil S. Cobb, Paul M. Rich...   \n",
       "2           Wangxia Wang, Basia Vinocur, Arie Altman   \n",
       "3  Henry D. Adams, Maite Guardiola-Claramonte, Gr...   \n",
       "4                                      C. S. Holling   \n",
       "\n",
       "                                         title_lcase  seen  \n",
       "0  increasingdestructivenessoftropicalcyclonesove...     0  \n",
       "1  regionalvegetationdieoffinresponsetoglobalchan...     0  \n",
       "2  plantresponsestodroughtsalinityandextremetempe...     0  \n",
       "3  temperaturesensitivityofdroughtinducedtreemort...     0  \n",
       "4  resilienceofecosystemslocalsurpriseandglobalch...     0  "
      ]
     },
     "execution_count": 4,
     "metadata": {},
     "output_type": "execute_result"
    }
   ],
   "source": [
    "# Now we load the Open alex data, and create the same title variable for merging\n",
    "\n",
    "oa_data = pd.read_csv(\"data/openalex_data.csv\").rename(columns={\"id\": \"OA_id\"})\n",
    "oa_data[\"title_lcase\"] = oa_data[\"title\"].apply(lambda x: re.sub(\"\\W\", \"\", x).lower())\n",
    "oa_data = oa_data.dropna(subset=[\"abstract\"])\n",
    "oa_data[\"seen\"] = 0\n",
    "print(oa_data.shape)\n",
    "oa_data.head()"
   ]
  },
  {
   "cell_type": "code",
   "execution_count": 5,
   "metadata": {},
   "outputs": [
    {
     "name": "stdout",
     "output_type": "stream",
     "text": [
      "(10736, 15)\n"
     ]
    },
    {
     "data": {
      "text/html": [
       "<div>\n",
       "<style scoped>\n",
       "    .dataframe tbody tr th:only-of-type {\n",
       "        vertical-align: middle;\n",
       "    }\n",
       "\n",
       "    .dataframe tbody tr th {\n",
       "        vertical-align: top;\n",
       "    }\n",
       "\n",
       "    .dataframe thead th {\n",
       "        text-align: right;\n",
       "    }\n",
       "</style>\n",
       "<table border=\"1\" class=\"dataframe\">\n",
       "  <thead>\n",
       "    <tr style=\"text-align: right;\">\n",
       "      <th></th>\n",
       "      <th>id</th>\n",
       "      <th>abstract</th>\n",
       "      <th>title</th>\n",
       "      <th>seen</th>\n",
       "      <th>INCLUDE</th>\n",
       "      <th>12 - Coastal and marine Ecosystems</th>\n",
       "      <th>12 - Human and managed</th>\n",
       "      <th>12 - Mountains, snow and ice</th>\n",
       "      <th>12 - Rivers, lakes, and soil moisture</th>\n",
       "      <th>12 - Terrestrial ES</th>\n",
       "      <th>title_lcase</th>\n",
       "      <th>OA_id</th>\n",
       "      <th>doi</th>\n",
       "      <th>publication_year</th>\n",
       "      <th>authors</th>\n",
       "    </tr>\n",
       "  </thead>\n",
       "  <tbody>\n",
       "    <tr>\n",
       "      <th>0</th>\n",
       "      <td>1448689.0</td>\n",
       "      <td>The city of Bismarck, North Dakota has one of ...</td>\n",
       "      <td>Key Factors Influencing the Incidence of West ...</td>\n",
       "      <td>1.0</td>\n",
       "      <td>0.0</td>\n",
       "      <td>0.0</td>\n",
       "      <td>1.0</td>\n",
       "      <td>0.0</td>\n",
       "      <td>0.0</td>\n",
       "      <td>0.0</td>\n",
       "      <td>keyfactorsinfluencingtheincidenceofwestnilevir...</td>\n",
       "      <td>NaN</td>\n",
       "      <td>NaN</td>\n",
       "      <td>NaN</td>\n",
       "      <td>NaN</td>\n",
       "    </tr>\n",
       "    <tr>\n",
       "      <th>1</th>\n",
       "      <td>3281128.0</td>\n",
       "      <td>Changing precipitation regimes can profoundly ...</td>\n",
       "      <td>Asymmetric responses of plant community struct...</td>\n",
       "      <td>1.0</td>\n",
       "      <td>1.0</td>\n",
       "      <td>0.0</td>\n",
       "      <td>0.0</td>\n",
       "      <td>0.0</td>\n",
       "      <td>0.0</td>\n",
       "      <td>1.0</td>\n",
       "      <td>asymmetricresponsesofplantcommunitystructurean...</td>\n",
       "      <td>NaN</td>\n",
       "      <td>NaN</td>\n",
       "      <td>NaN</td>\n",
       "      <td>NaN</td>\n",
       "    </tr>\n",
       "    <tr>\n",
       "      <th>2</th>\n",
       "      <td>900708.0</td>\n",
       "      <td>Climate influences forest structure through ef...</td>\n",
       "      <td>Climate effects on fire regimes and tree recru...</td>\n",
       "      <td>1.0</td>\n",
       "      <td>1.0</td>\n",
       "      <td>0.0</td>\n",
       "      <td>0.0</td>\n",
       "      <td>0.0</td>\n",
       "      <td>0.0</td>\n",
       "      <td>1.0</td>\n",
       "      <td>climateeffectsonfireregimesandtreerecruitmenti...</td>\n",
       "      <td>NaN</td>\n",
       "      <td>NaN</td>\n",
       "      <td>NaN</td>\n",
       "      <td>NaN</td>\n",
       "    </tr>\n",
       "    <tr>\n",
       "      <th>3</th>\n",
       "      <td>3234419.0</td>\n",
       "      <td>Climate change is likely to bring more, hotter...</td>\n",
       "      <td>Climate change adaptation and mitigation ? a h...</td>\n",
       "      <td>1.0</td>\n",
       "      <td>1.0</td>\n",
       "      <td>0.0</td>\n",
       "      <td>1.0</td>\n",
       "      <td>0.0</td>\n",
       "      <td>0.0</td>\n",
       "      <td>0.0</td>\n",
       "      <td>climatechangeadaptationandmitigationahitherton...</td>\n",
       "      <td>NaN</td>\n",
       "      <td>NaN</td>\n",
       "      <td>NaN</td>\n",
       "      <td>NaN</td>\n",
       "    </tr>\n",
       "    <tr>\n",
       "      <th>4</th>\n",
       "      <td>2090028.0</td>\n",
       "      <td>Aim The long-term stability of coastal ecosyst...</td>\n",
       "      <td>Caribbean mangroves adjust to rising sea level...</td>\n",
       "      <td>1.0</td>\n",
       "      <td>1.0</td>\n",
       "      <td>1.0</td>\n",
       "      <td>0.0</td>\n",
       "      <td>0.0</td>\n",
       "      <td>0.0</td>\n",
       "      <td>0.0</td>\n",
       "      <td>caribbeanmangrovesadjusttorisingsealevelthroug...</td>\n",
       "      <td>NaN</td>\n",
       "      <td>NaN</td>\n",
       "      <td>NaN</td>\n",
       "      <td>NaN</td>\n",
       "    </tr>\n",
       "  </tbody>\n",
       "</table>\n",
       "</div>"
      ],
      "text/plain": [
       "          id                                           abstract  \\\n",
       "0  1448689.0  The city of Bismarck, North Dakota has one of ...   \n",
       "1  3281128.0  Changing precipitation regimes can profoundly ...   \n",
       "2   900708.0  Climate influences forest structure through ef...   \n",
       "3  3234419.0  Climate change is likely to bring more, hotter...   \n",
       "4  2090028.0  Aim The long-term stability of coastal ecosyst...   \n",
       "\n",
       "                                               title  seen  INCLUDE  \\\n",
       "0  Key Factors Influencing the Incidence of West ...   1.0      0.0   \n",
       "1  Asymmetric responses of plant community struct...   1.0      1.0   \n",
       "2  Climate effects on fire regimes and tree recru...   1.0      1.0   \n",
       "3  Climate change adaptation and mitigation ? a h...   1.0      1.0   \n",
       "4  Caribbean mangroves adjust to rising sea level...   1.0      1.0   \n",
       "\n",
       "   12 - Coastal and marine Ecosystems  12 - Human and managed  \\\n",
       "0                                 0.0                     1.0   \n",
       "1                                 0.0                     0.0   \n",
       "2                                 0.0                     0.0   \n",
       "3                                 0.0                     1.0   \n",
       "4                                 1.0                     0.0   \n",
       "\n",
       "   12 - Mountains, snow and ice  12 - Rivers, lakes, and soil moisture  \\\n",
       "0                           0.0                                    0.0   \n",
       "1                           0.0                                    0.0   \n",
       "2                           0.0                                    0.0   \n",
       "3                           0.0                                    0.0   \n",
       "4                           0.0                                    0.0   \n",
       "\n",
       "   12 - Terrestrial ES                                        title_lcase  \\\n",
       "0                  0.0  keyfactorsinfluencingtheincidenceofwestnilevir...   \n",
       "1                  1.0  asymmetricresponsesofplantcommunitystructurean...   \n",
       "2                  1.0  climateeffectsonfireregimesandtreerecruitmenti...   \n",
       "3                  0.0  climatechangeadaptationandmitigationahitherton...   \n",
       "4                  0.0  caribbeanmangrovesadjusttorisingsealevelthroug...   \n",
       "\n",
       "  OA_id  doi  publication_year authors  \n",
       "0   NaN  NaN               NaN     NaN  \n",
       "1   NaN  NaN               NaN     NaN  \n",
       "2   NaN  NaN               NaN     NaN  \n",
       "3   NaN  NaN               NaN     NaN  \n",
       "4   NaN  NaN               NaN     NaN  "
      ]
     },
     "execution_count": 5,
     "metadata": {},
     "output_type": "execute_result"
    }
   ],
   "source": [
    "# Now we add the OpenAlex rows which are not in the labelled data to the labelled_data\n",
    "df = pd.concat(\n",
    "    [labelled_data, oa_data[~oa_data[\"title_lcase\"].isin(labelled_data[\"title_lcase\"])]]\n",
    ")\n",
    "print(df.shape)\n",
    "df.head()"
   ]
  },
  {
   "cell_type": "markdown",
   "metadata": {},
   "source": [
    "### Inspecting our labels\n",
    "\n",
    "We can take a quick look at how many of which type of labels we have"
   ]
  },
  {
   "cell_type": "code",
   "execution_count": 6,
   "metadata": {},
   "outputs": [
    {
     "data": {
      "image/png": "[encoded data removed]",
      "text/plain": [
       "<Figure size 432x288 with 1 Axes>"
      ]
     },
     "metadata": {
      "needs_background": "light"
     },
     "output_type": "display_data"
    }
   ],
   "source": [
    "# We can quickly plot how many documents have been labelled, and how many not\n",
    "df.groupby(\"seen\")[\"title\"].count().plot.bar();"
   ]
  },
  {
   "cell_type": "code",
   "execution_count": 7,
   "metadata": {},
   "outputs": [
    {
     "data": {
      "image/png": "[encoded data removed]",
      "text/plain": [
       "<Figure size 432x288 with 1 Axes>"
      ]
     },
     "metadata": {
      "needs_background": "light"
     },
     "output_type": "display_data"
    }
   ],
   "source": [
    "# TODO: I don't understand what the INCLUDE label means, could you explain how a paper would get this designation?\n",
    "# and also plot how many of the labelled docs were included\n",
    "df.groupby(\"INCLUDE\")[\"title\"].count().plot.bar();"
   ]
  },
  {
   "cell_type": "code",
   "execution_count": 8,
   "metadata": {},
   "outputs": [
    {
     "data": {
      "image/png": "[encoded data removed]",
      "text/plain": [
       "<Figure size 432x288 with 1 Axes>"
      ]
     },
     "metadata": {
      "needs_background": "light"
     },
     "output_type": "display_data"
    }
   ],
   "source": [
    "# Finally we can plot how many examples of each impact type we have\n",
    "\n",
    "impacts = [x for x in df.columns if re.match(\"12 -\", x)]\n",
    "df[impacts].sum().plot.barh();"
   ]
  },
  {
   "cell_type": "markdown",
   "metadata": {},
   "source": [
    "## A pipeline for a simple machine learning model\n",
    "\n",
    "Now we want to put together a pipeline for a simple machine learning model. We'll start off by trying to predict the binary INCLUSION label, then move onto the impact type, which is a **multilabel** output. This means each document can be labelled with one or more of the impact types. \n",
    "\n",
    "In each case, though, the first thing we need to do is to encode our text input numerically, so it can be used in our models. To do this, we'll take a look at approaches from the feature extraction module from [scikitlearn](https://scikit-learn.org/stable/modules/classes.html#module-sklearn.feature_extraction.text): `CountVectorizer` and `TfidfVectorizer`."
   ]
  },
  {
   "cell_type": "code",
   "execution_count": 9,
   "metadata": {},
   "outputs": [
    {
     "data": {
      "text/plain": [
       "matrix([[0, 0, 1, 1, 0, 0, 1, 1, 1, 0, 0, 1],\n",
       "        [1, 1, 1, 1, 1, 1, 0, 0, 1, 0, 0, 0],\n",
       "        [0, 0, 2, 1, 0, 0, 0, 0, 0, 1, 1, 0]])"
      ]
     },
     "execution_count": 9,
     "metadata": {},
     "output_type": "execute_result"
    }
   ],
   "source": [
    "from nltk.stem.porter import PorterStemmer\n",
    "from sklearn.feature_extraction.text import CountVectorizer, TfidfVectorizer\n",
    "\n",
    "# Let's take for now a couple of example texts\n",
    "texts = [\n",
    "    \"Climate change is impacting human systems\",\n",
    "    \"Climate change is caused by fossil fuels\",\n",
    "    \"System change not climate change\",\n",
    "]\n",
    "\n",
    "# We'll instantiate a vectorizer class\n",
    "vectorizer = CountVectorizer()\n",
    "\n",
    "# And apply the fit_transform method to our texts\n",
    "X = vectorizer.fit_transform(texts)\n",
    "\n",
    "# This gives us a matrix of shape n_texts, vocab_size\n",
    "X.todense()"
   ]
  },
  {
   "cell_type": "code",
   "execution_count": 10,
   "metadata": {},
   "outputs": [
    {
     "name": "stdout",
     "output_type": "stream",
     "text": [
      "[[0 0 1 1 0 0 1 1 1 0 0 1]\n",
      " [1 1 1 1 1 1 0 0 1 0 0 0]\n",
      " [0 0 2 1 0 0 0 0 0 1 1 0]]\n"
     ]
    },
    {
     "data": {
      "image/png": "[encoded data removed]",
      "text/plain": [
       "<Figure size 432x288 with 2 Axes>"
      ]
     },
     "metadata": {
      "needs_background": "light"
     },
     "output_type": "display_data"
    }
   ],
   "source": [
    "# The features each column represents can be accessed here\n",
    "features = vectorizer.get_feature_names_out()\n",
    "\n",
    "\n",
    "def visualize_doc_vec(X, features=None):\n",
    "    print(X.todense())\n",
    "    # And we could visualise this simply like this\n",
    "    fig, ax = plt.subplots()\n",
    "    doc_map = ax.imshow(X.todense(), cmap=\"Blues\")\n",
    "    ax.set_xticks(np.arange(len(features)))\n",
    "    ax.set_xticklabels(features, rotation=45, ha=\"right\")\n",
    "    cbar = fig.colorbar(doc_map)\n",
    "\n",
    "\n",
    "visualize_doc_vec(X, features)\n",
    "\n",
    "plt.show()"
   ]
  },
  {
   "cell_type": "markdown",
   "metadata": {},
   "source": [
    "As we can see, each document is a row, each column is a feature. The cells contain the number of times each word occurs in each document. \n",
    "\n",
    "However, by adding a small amount of complexity we can generate a more useful way of representing these texts. \n",
    "\n",
    "Term frequency inverse document frequency ([TF-IDF](https://en.wikipedia.org/wiki/Tf%E2%80%93idf)) gives greater weight to those terms which appear infrequently in the corpus, meaning that very frequent but uninformative terms like \"the\" are given less importance."
   ]
  },
  {
   "cell_type": "code",
   "execution_count": 11,
   "metadata": {},
   "outputs": [
    {
     "name": "stdout",
     "output_type": "stream",
     "text": [
      "[[0.         0.         0.28561676 0.28561676 0.         0.\n",
      "  0.48359121 0.48359121 0.36778358 0.         0.         0.48359121]\n",
      " [0.43535684 0.43535684 0.25712876 0.25712876 0.43535684 0.43535684\n",
      "  0.         0.         0.3311001  0.         0.         0.        ]\n",
      " [0.         0.         0.61046311 0.30523155 0.         0.\n",
      "  0.         0.         0.         0.51680194 0.51680194 0.        ]]\n"
     ]
    },
    {
     "data": {
      "image/png": "[encoded data removed]",
      "text/plain": [
       "<Figure size 432x288 with 2 Axes>"
      ]
     },
     "metadata": {
      "needs_background": "light"
     },
     "output_type": "display_data"
    }
   ],
   "source": [
    "vectorizer = TfidfVectorizer()\n",
    "X = vectorizer.fit_transform(texts)\n",
    "\n",
    "features = vectorizer.get_feature_names_out()\n",
    "\n",
    "visualize_doc_vec(X, features)\n",
    "\n",
    "plt.show()"
   ]
  },
  {
   "cell_type": "markdown",
   "metadata": {},
   "source": [
    "## Learning from features\n",
    "\n",
    "Support Vector machines work by finding a hyperplane in a multi-dimensional space that separates samples of different classes. The matrix we have visualised above forms our multidimensional space."
   ]
  },
  {
   "cell_type": "code",
   "execution_count": 12,
   "metadata": {},
   "outputs": [
    {
     "data": {
      "text/plain": [
       "Pipeline(steps=[('vect', TfidfVectorizer()),\n",
       "                ('clf', SVC(class_weight='balanced', probability=True))])"
      ]
     },
     "execution_count": 12,
     "metadata": {},
     "output_type": "execute_result"
    }
   ],
   "source": [
    "from sklearn.pipeline import Pipeline\n",
    "from sklearn.svm import SVC\n",
    "\n",
    "clf = Pipeline(\n",
    "    steps=[\n",
    "        (\"vect\", TfidfVectorizer()),\n",
    "        (\"clf\", SVC(probability=True, class_weight=\"balanced\")),\n",
    "    ]\n",
    ")\n",
    "\n",
    "# We'll slightly expand our list of texts\n",
    "texts, y = zip(\n",
    "    *[\n",
    "        (\"Climate change is impacting human systems\", 1),\n",
    "        (\"Climate change is caused by fossil fuels\", 0),\n",
    "        (\"Agricultural yields are affected by climate change\", 1),\n",
    "        (\"System change not climate change\", 0),\n",
    "        (\"higher temperatures are impacting human health\", 1),\n",
    "        (\"Forest fires are becoming more frequent due to climate change\", 1),\n",
    "        (\"Machine learning can read texts\", 0),\n",
    "        (\"AI can help solve climate change!\", 0),\n",
    "        (\"We need to save gas this winter\", 0),\n",
    "        (\"More frequent droughts are impacting crop yields\", 1),\n",
    "        (\"Many communities are affected by rising sea levels\", 1),\n",
    "        (\"Global emissions continue to rise\", 0),\n",
    "        (\"Ecosystems are increasingly impacted by rising temperatures\", 1),\n",
    "        (\"Emissions from fossil fuels need to decline\", 0),\n",
    "        (\"Anthropogenic climate change is impacting vulnerable communities\", 1),\n",
    "    ]\n",
    ")\n",
    "\n",
    "clf.fit(texts, y)"
   ]
  },
  {
   "cell_type": "code",
   "execution_count": 13,
   "metadata": {},
   "outputs": [
    {
     "data": {
      "text/plain": [
       "array([1, 0, 0])"
      ]
     },
     "execution_count": 13,
     "metadata": {},
     "output_type": "execute_result"
    }
   ],
   "source": [
    "# We can now use this classifier to make predictions about new texts\n",
    "\n",
    "# Here are a couple of easy examples (easy because they are similar to our examples)\n",
    "new_texts = [\n",
    "    \"climate change is impacting terrestrial ecosystems\",\n",
    "    \"Machine Learning will solve climate change\",\n",
    "    \"Fossil fuels are responsible for rising temperature\",\n",
    "]\n",
    "# We can make predictions about which class the examples belong to\n",
    "clf.predict(new_texts)"
   ]
  },
  {
   "cell_type": "code",
   "execution_count": 14,
   "metadata": {},
   "outputs": [
    {
     "data": {
      "text/plain": [
       "array([[0.52031527, 0.47968473],\n",
       "       [0.39734698, 0.60265302],\n",
       "       [0.44653469, 0.55346531]])"
      ]
     },
     "execution_count": 14,
     "metadata": {},
     "output_type": "execute_result"
    }
   ],
   "source": [
    "# We can also get these as probabilities (which are very unstable with small datasets, and not guaranteed to match the predictions)\n",
    "clf.predict_proba(new_texts)"
   ]
  },
  {
   "cell_type": "code",
   "execution_count": 15,
   "metadata": {},
   "outputs": [
    {
     "data": {
      "text/plain": [
       "array([0.47968473, 0.60265302, 0.55346531])"
      ]
     },
     "execution_count": 15,
     "metadata": {},
     "output_type": "execute_result"
    }
   ],
   "source": [
    "# Each row contains predicted probabilites for each class, in this case 0, and 1\n",
    "\n",
    "# We can get predicted probabilities of being in the INCLUDE class like this\n",
    "clf.predict_proba(new_texts)[:, 1]"
   ]
  },
  {
   "cell_type": "markdown",
   "metadata": {},
   "source": [
    "## Multilabel\n",
    "\n",
    "Multilabel problems are those where any sample can belong to any of the classes (as opposed to multiclass problems where each sample must belong to **exactly 1** class. In our dataset, most documents which were marked as relevant are assigned to one class, with some assigned to two, and very few assigned to three."
   ]
  },
  {
   "cell_type": "code",
   "execution_count": 16,
   "metadata": {},
   "outputs": [
    {
     "data": {
      "image/png": "[encoded data removed]",
      "text/plain": [
       "<Figure size 432x288 with 1 Axes>"
      ]
     },
     "metadata": {
      "needs_background": "light"
     },
     "output_type": "display_data"
    }
   ],
   "source": [
    "plt.hist(df[df[\"INCLUDE\"] == 1][impacts].sum(axis=1));"
   ]
  },
  {
   "cell_type": "markdown",
   "metadata": {},
   "source": [
    "To prepare our target for the model, we simply create a matrix with a row for each document and a column for each class"
   ]
  },
  {
   "cell_type": "code",
   "execution_count": 17,
   "metadata": {},
   "outputs": [
    {
     "data": {
      "text/plain": [
       "array([[0., 0., 1., 0., 0.],\n",
       "       [0., 0., 0., 0., 1.],\n",
       "       [1., 0., 0., 0., 0.],\n",
       "       ...,\n",
       "       [0., 0., 0., 1., 0.],\n",
       "       [0., 0., 0., 0., 1.],\n",
       "       [0., 1., 0., 1., 0.]])"
      ]
     },
     "execution_count": 17,
     "metadata": {},
     "output_type": "execute_result"
    }
   ],
   "source": [
    "# create an x and y variable with a sample of 200 relevant documents\n",
    "samples = df[df[\"INCLUDE\"] == 1].sample(200).index\n",
    "X = df.iloc[samples][\"abstract\"]\n",
    "y = df.iloc[samples][impacts].values\n",
    "np.set_printoptions(threshold=5)\n",
    "y"
   ]
  },
  {
   "cell_type": "markdown",
   "metadata": {},
   "source": [
    "Now we just need to slightly amend our pipeline by defining how we want to approach the multilabel problem.\n",
    "\n",
    "We use a One vs Rest classifier which simply creates a binary classifier for each class"
   ]
  },
  {
   "cell_type": "code",
   "execution_count": 18,
   "metadata": {},
   "outputs": [
    {
     "data": {
      "text/plain": [
       "Pipeline(steps=[('vec', TfidfVectorizer()),\n",
       "                ('clf',\n",
       "                 OneVsRestClassifier(estimator=SVC(class_weight='balanced',\n",
       "                                                   probability=True)))])"
      ]
     },
     "execution_count": 18,
     "metadata": {},
     "output_type": "execute_result"
    }
   ],
   "source": [
    "from sklearn.multiclass import OneVsRestClassifier\n",
    "\n",
    "clf = Pipeline(\n",
    "    steps=[\n",
    "        (\"vec\", TfidfVectorizer()),\n",
    "        (\"clf\", OneVsRestClassifier(SVC(probability=True, class_weight=\"balanced\"))),\n",
    "    ]\n",
    ")\n",
    "\n",
    "clf.fit(X, y)"
   ]
  },
  {
   "cell_type": "markdown",
   "metadata": {},
   "source": [
    "In the same way as before, we can make predictions with some sample texts"
   ]
  },
  {
   "cell_type": "code",
   "execution_count": 19,
   "metadata": {},
   "outputs": [
    {
     "data": {
      "text/html": [
       "<div>\n",
       "<style scoped>\n",
       "    .dataframe tbody tr th:only-of-type {\n",
       "        vertical-align: middle;\n",
       "    }\n",
       "\n",
       "    .dataframe tbody tr th {\n",
       "        vertical-align: top;\n",
       "    }\n",
       "\n",
       "    .dataframe thead th {\n",
       "        text-align: right;\n",
       "    }\n",
       "</style>\n",
       "<table border=\"1\" class=\"dataframe\">\n",
       "  <thead>\n",
       "    <tr style=\"text-align: right;\">\n",
       "      <th></th>\n",
       "      <th>12 - Coastal and marine Ecosystems</th>\n",
       "      <th>12 - Human and managed</th>\n",
       "      <th>12 - Mountains, snow and ice</th>\n",
       "      <th>12 - Rivers, lakes, and soil moisture</th>\n",
       "      <th>12 - Terrestrial ES</th>\n",
       "    </tr>\n",
       "  </thead>\n",
       "  <tbody>\n",
       "    <tr>\n",
       "      <th>0</th>\n",
       "      <td>0</td>\n",
       "      <td>0</td>\n",
       "      <td>0</td>\n",
       "      <td>0</td>\n",
       "      <td>1</td>\n",
       "    </tr>\n",
       "    <tr>\n",
       "      <th>1</th>\n",
       "      <td>0</td>\n",
       "      <td>0</td>\n",
       "      <td>0</td>\n",
       "      <td>0</td>\n",
       "      <td>0</td>\n",
       "    </tr>\n",
       "  </tbody>\n",
       "</table>\n",
       "</div>"
      ],
      "text/plain": [
       "   12 - Coastal and marine Ecosystems  12 - Human and managed  \\\n",
       "0                                   0                       0   \n",
       "1                                   0                       0   \n",
       "\n",
       "   12 - Mountains, snow and ice  12 - Rivers, lakes, and soil moisture  \\\n",
       "0                             0                                      0   \n",
       "1                             0                                      0   \n",
       "\n",
       "   12 - Terrestrial ES  \n",
       "0                    1  \n",
       "1                    0  "
      ]
     },
     "execution_count": 19,
     "metadata": {},
     "output_type": "execute_result"
    }
   ],
   "source": [
    "example_texts = [\n",
    "    \"Climate change has affected butterfly phenology in North America. \"\n",
    "    + \"In an experiment in the butterfly national park, we found that \"\n",
    "    + \"mean dates of appearance had shifted by two weeks. Species traits, \"\n",
    "    + \"especially ecological traits, were found to explain some part of \"\n",
    "    + \"different phenological responses\",\n",
    "    \"Rising temperatures have contributed to increasing heat related mortaility \"\n",
    "    + \"in cities across Europe. \",\n",
    "]\n",
    "y_pred = clf.predict(example_texts)\n",
    "\n",
    "pd.DataFrame(y_pred, columns=impacts)"
   ]
  },
  {
   "cell_type": "markdown",
   "metadata": {},
   "source": [
    "## Transfer learning with transformers!\n",
    "\n",
    "A more powerful way to do classification is to fine-tune a langauge model which has been pretrained on large amounts of text. For an introduction to how these work (which is outside the scope of this tutorial) check out [The Illustrated Transformer](https://jalammar.github.io/illustrated-transformer/).\n",
    "\n",
    "The [Transformers](https://huggingface.co/docs/transformers) library makes doing this really easy, and there are a wealth of models available with different features and which have been pretrained on different corpora. We are going to use [ClimateBert](https://huggingface.co/climatebert), which has undergone additional pretraining on texts from the climate domain (included scientific articles)."
   ]
  },
  {
   "cell_type": "code",
   "execution_count": 30,
   "metadata": {},
   "outputs": [],
   "source": [
    "# Let's take our texts and our labels again\n",
    "texts, y = zip(\n",
    "    *[\n",
    "        (\"Climate change is impacting human systems\", 1),\n",
    "        (\"Climate change is caused by fossil fuels\", 0),\n",
    "        (\"Agricultural yields are affected by climate change\", 1),\n",
    "        (\"System change not climate change\", 0),\n",
    "        (\"higher temperatures are impacting human health\", 1),\n",
    "        (\"Forest fires are becoming more frequent due to climate change\", 1),\n",
    "        (\"Machine learning can read texts\", 0),\n",
    "        (\"AI can help solve climate change!\", 0),\n",
    "        (\"We need to save gas this winter\", 0),\n",
    "        (\"More frequent droughts are impacting crop yields\", 1),\n",
    "        (\"Many communities are affected by rising sea levels\", 1),\n",
    "        (\"Global emissions continue to rise\", 0),\n",
    "        (\"Ecosystems are increasingly impacted by rising temperatures\", 1),\n",
    "        (\"Emissions from fossil fuels need to decline\", 0),\n",
    "        (\"Anthropogenic climate change is impacting vulnerable communities\", 1),\n",
    "    ]\n",
    ")"
   ]
  },
  {
   "cell_type": "code",
   "execution_count": 31,
   "metadata": {},
   "outputs": [
    {
     "name": "stderr",
     "output_type": "stream",
     "text": [
      "loading file https://huggingface.co/climatebert/distilroberta-base-climate-f/resolve/main/vocab.json from cache at /home/max/.cache/huggingface/transformers/3ba94d8982c0e7ecd7248128e9e8fa5c4eceee0814c8b52f535446a7b1743967.bfdcc444ff249bca1a95ca170ec350b442f81804d7df3a95a2252217574121d7\n",
      "loading file https://huggingface.co/climatebert/distilroberta-base-climate-f/resolve/main/merges.txt from cache at /home/max/.cache/huggingface/transformers/624a724a2a3c05a06900248de445daf260f4d25a0079867ce8e86ce1e9cb02fb.f5b91da9e34259b8f4d88dbc97c740667a0e8430b96314460cdb04e86d4fc435\n",
      "loading file https://huggingface.co/climatebert/distilroberta-base-climate-f/resolve/main/tokenizer.json from cache at /home/max/.cache/huggingface/transformers/386ec1a73d82cb91a321af42898c8bd388502e07fe471389e3a6cd9954f49361.5196e959786990f52908322f6e7c0c5ed92d9a7392df9288c3cc19ec72195a09\n",
      "loading file https://huggingface.co/climatebert/distilroberta-base-climate-f/resolve/main/added_tokens.json from cache at /home/max/.cache/huggingface/transformers/26c0cdff6fb7f4a3172e73dd4eacb227c4b1ca14946b8ee04e6649e96a6b1a36.599233e8481b4c747ff627a0163916aec386bff1160eccb38148806a05073ba2\n",
      "loading file https://huggingface.co/climatebert/distilroberta-base-climate-f/resolve/main/special_tokens_map.json from cache at /home/max/.cache/huggingface/transformers/0d0f5aa9ea47ff8bcb32ae2c264578e3304877ce0516328d659fbd7aff7358b9.a11ebb04664c067c8fe5ef8f8068b0f721263414a26058692f7b2e4ba2a1b342\n",
      "loading file https://huggingface.co/climatebert/distilroberta-base-climate-f/resolve/main/tokenizer_config.json from cache at /home/max/.cache/huggingface/transformers/4cbc153746cc81dd9d3ade89a6db256b4c6fec3db1ffe229a0230bc88a7cb9dd.ac9770e4160784185531ff784ab566428eee6c11907dbaf6ac2a5d6404617533\n"
     ]
    },
    {
     "data": {
      "application/vnd.jupyter.widget-view+json": {
       "model_id": "de3a8160d3af44f6ab5a3d94b5361a10",
       "version_major": 2,
       "version_minor": 0
      },
      "text/plain": [
       "  0%|          | 0/1 [00:00<?, ?ba/s]"
      ]
     },
     "metadata": {},
     "output_type": "display_data"
    },
    {
     "data": {
      "text/plain": [
       "{'text': 'Climate change is impacting human systems',\n",
       " 'label': 1,\n",
       " 'input_ids': [0, 40466, 464, 16, 18081, 1050, 1437, 50333, 2, 1, 1, 1, 1],\n",
       " 'attention_mask': [1, 1, 1, 1, 1, 1, 1, 1, 1, 0, 0, 0, 0]}"
      ]
     },
     "execution_count": 31,
     "metadata": {},
     "output_type": "execute_result"
    }
   ],
   "source": [
    "# To use these with transformers, we are going to need to get them into the right format.\n",
    "from datasets import Dataset\n",
    "from transformers import AutoTokenizer\n",
    "\n",
    "# First we'll put them into a HuggingFace Dataset object\n",
    "dataset = Dataset.from_dict({\"text\": texts, \"label\": y})\n",
    "\n",
    "# And now we need to tokenize the texts, using the pretrained tokenizer from climatebert\n",
    "model_name = \"climatebert/distilroberta-base-climate-f\"\n",
    "tokenizer = AutoTokenizer.from_pretrained(model_name)\n",
    "\n",
    "\n",
    "def tokenize_function(examples):\n",
    "    return tokenizer(examples[\"text\"], padding=\"longest\", truncation=True)\n",
    "\n",
    "\n",
    "tokenized_dataset = dataset.map(tokenize_function, batched=True)\n",
    "tokenized_dataset[0]"
   ]
  },
  {
   "cell_type": "code",
   "execution_count": 32,
   "metadata": {},
   "outputs": [
    {
     "data": {
      "application/vnd.jupyter.widget-view+json": {
       "model_id": "4291913586054c5cbe72d0cb11b18768",
       "version_major": 2,
       "version_minor": 0
      },
      "text/plain": [
       "  0%|          | 0/1 [00:00<?, ?ba/s]"
      ]
     },
     "metadata": {},
     "output_type": "display_data"
    },
    {
     "data": {
      "text/plain": [
       "{'text': 'Climate change is impacting human systems',\n",
       " 'label': 1,\n",
       " 'input_ids': [0, 40466, 464, 16, 18081, 1050, 1437, 50333, 2, 1, 1, 1, 1],\n",
       " 'attention_mask': [1, 1, 1, 1, 1, 1, 1, 1, 1, 0, 0, 0, 0]}"
      ]
     },
     "execution_count": 32,
     "metadata": {},
     "output_type": "execute_result"
    }
   ],
   "source": [
    "# We can wrap this into one function that turns any set of texts (and optional labels)\n",
    "# into a tokenized huggingface dataset\n",
    "def datasetify(x, tokenizer, y=None):\n",
    "    data_dict = {\"text\": x}\n",
    "    if y is not None:\n",
    "        data_dict[\"label\"] = y\n",
    "    dataset = Dataset.from_dict(data_dict)\n",
    "\n",
    "    def tokenize_function(examples):\n",
    "        return tokenizer(examples[\"text\"], padding=\"longest\", truncation=True)\n",
    "\n",
    "    return dataset.map(tokenize_function, batched=True)\n",
    "\n",
    "\n",
    "tokenized_dataset = datasetify(texts, tokenizer, y)\n",
    "tokenized_dataset[0]"
   ]
  },
  {
   "cell_type": "code",
   "execution_count": 35,
   "metadata": {},
   "outputs": [
    {
     "name": "stderr",
     "output_type": "stream",
     "text": [
      "Some weights of the model checkpoint at climatebert/distilroberta-base-climate-f were not used when initializing RobertaForSequenceClassification: ['lm_head.dense.weight', 'lm_head.layer_norm.bias', 'lm_head.layer_norm.weight', 'lm_head.bias', 'lm_head.dense.bias']\n",
      "- This IS expected if you are initializing RobertaForSequenceClassification from the checkpoint of a model trained on another task or with another architecture (e.g. initializing a BertForSequenceClassification model from a BertForPreTraining model).\n",
      "- This IS NOT expected if you are initializing RobertaForSequenceClassification from the checkpoint of a model that you expect to be exactly identical (initializing a BertForSequenceClassification model from a BertForSequenceClassification model).\n",
      "Some weights of RobertaForSequenceClassification were not initialized from the model checkpoint at climatebert/distilroberta-base-climate-f and are newly initialized: ['classifier.dense.bias', 'classifier.dense.weight', 'classifier.out_proj.bias', 'classifier.out_proj.weight']\n",
      "You should probably TRAIN this model on a down-stream task to be able to use it for predictions and inference.\n"
     ]
    },
    {
     "data": {
      "application/vnd.jupyter.widget-view+json": {
       "model_id": "af0c7334eb9b48e9ad60a2edd2e375cc",
       "version_major": 2,
       "version_minor": 0
      },
      "text/plain": [
       "  0%|          | 0/1 [00:00<?, ?ba/s]"
      ]
     },
     "metadata": {},
     "output_type": "display_data"
    },
    {
     "name": "stderr",
     "output_type": "stream",
     "text": [
      "The following columns in the training set don't have a corresponding argument in `RobertaForSequenceClassification.forward` and have been ignored: text. If text are not expected by `RobertaForSequenceClassification.forward`,  you can safely ignore this message.\n",
      "***** Running training *****\n",
      "  Num examples = 15\n",
      "  Num Epochs = 3\n",
      "  Instantaneous batch size per device = 8\n",
      "  Total train batch size (w. parallel, distributed & accumulation) = 8\n",
      "  Gradient Accumulation steps = 1\n",
      "  Total optimization steps = 6\n"
     ]
    },
    {
     "data": {
      "text/html": [
       "\n",
       "    <div>\n",
       "      \n",
       "      <progress value='6' max='6' style='width:300px; height:20px; vertical-align: middle;'></progress>\n",
       "      [6/6 00:03, Epoch 3/3]\n",
       "    </div>\n",
       "    <table border=\"1\" class=\"dataframe\">\n",
       "  <thead>\n",
       " <tr style=\"text-align: left;\">\n",
       "      <th>Step</th>\n",
       "      <th>Training Loss</th>\n",
       "    </tr>\n",
       "  </thead>\n",
       "  <tbody>\n",
       "  </tbody>\n",
       "</table><p>"
      ],
      "text/plain": [
       "<IPython.core.display.HTML object>"
      ]
     },
     "metadata": {},
     "output_type": "display_data"
    },
    {
     "name": "stderr",
     "output_type": "stream",
     "text": [
      "\n",
      "\n",
      "Training completed. Do not forget to share your model on huggingface.co/models =)\n",
      "\n",
      "\n"
     ]
    },
    {
     "data": {
      "text/plain": [
       "TrainOutput(global_step=6, training_loss=0.6805674235026041, metrics={'train_runtime': 4.2459, 'train_samples_per_second': 10.598, 'train_steps_per_second': 1.413, 'total_flos': 151354351980.0, 'train_loss': 0.6805674235026041, 'epoch': 3.0})"
      ]
     },
     "execution_count": 35,
     "metadata": {},
     "output_type": "execute_result"
    }
   ],
   "source": [
    "# Now we want to load our model, and instantiate a Trainer class\n",
    "from transformers import AutoModelForSequenceClassification, Trainer, logging\n",
    "\n",
    "logging.set_verbosity_warning()\n",
    "\n",
    "# We set num_labels to 2 for binary classification, as we have two classes - positive and negative\n",
    "model = AutoModelForSequenceClassification.from_pretrained(model_name, num_labels=2)\n",
    "# The trainer class needs to be supplied with a model, and a dataset (and will also accept TrainingArguments and validation data)\n",
    "trainer = Trainer(model=model, train_dataset=datasetify(texts, tokenizer, y))\n",
    "# Once this has been instantiated we can apply the train() method\n",
    "trainer.train()"
   ]
  },
  {
   "cell_type": "code",
   "execution_count": 36,
   "metadata": {},
   "outputs": [
    {
     "data": {
      "application/vnd.jupyter.widget-view+json": {
       "model_id": "94216ae7080f45998790b92367d61c32",
       "version_major": 2,
       "version_minor": 0
      },
      "text/plain": [
       "  0%|          | 0/1 [00:00<?, ?ba/s]"
      ]
     },
     "metadata": {},
     "output_type": "display_data"
    },
    {
     "name": "stderr",
     "output_type": "stream",
     "text": [
      "The following columns in the test set don't have a corresponding argument in `RobertaForSequenceClassification.forward` and have been ignored: text. If text are not expected by `RobertaForSequenceClassification.forward`,  you can safely ignore this message.\n",
      "***** Running Prediction *****\n",
      "  Num examples = 3\n",
      "  Batch size = 8\n"
     ]
    },
    {
     "data": {
      "text/html": [],
      "text/plain": [
       "<IPython.core.display.HTML object>"
      ]
     },
     "metadata": {},
     "output_type": "display_data"
    },
    {
     "data": {
      "text/plain": [
       "PredictionOutput(predictions=array([[ 0.03344734,  0.04020789],\n",
       "       [ 0.08351195, -0.0437724 ],\n",
       "       [ 0.06292889, -0.0039019 ]], dtype=float32), label_ids=array([1, 0, 0]), metrics={'test_loss': 0.6605305075645447, 'test_runtime': 0.043, 'test_samples_per_second': 69.692, 'test_steps_per_second': 23.231})"
      ]
     },
     "execution_count": 36,
     "metadata": {},
     "output_type": "execute_result"
    }
   ],
   "source": [
    "# To generate predictions, we just need to supply a dataset to the predict method\n",
    "new_texts = [\n",
    "    \"climate change is impacting terrestrial ecosystems\",\n",
    "    \"Machine Learning will solve climate change\",\n",
    "    \"Fossil fuels are responsible for rising temperature\",\n",
    "]\n",
    "\n",
    "\n",
    "pred = trainer.predict(datasetify(new_texts, tokenizer, [1, 0, 0]))\n",
    "pred"
   ]
  },
  {
   "cell_type": "code",
   "execution_count": null,
   "metadata": {},
   "outputs": [],
   "source": []
  },
  {
   "cell_type": "code",
   "execution_count": 38,
   "metadata": {},
   "outputs": [
    {
     "name": "stderr",
     "output_type": "stream",
     "text": [
      "/tmp/ipykernel_20245/30200511.py:10: UserWarning: Implicit dimension choice for softmax has been deprecated. Change the call to include dim=X as an argument.\n",
      "  activation(tensor(pred.predictions))\n"
     ]
    },
    {
     "data": {
      "text/plain": [
       "tensor([[0.4983, 0.5017],\n",
       "        [0.5318, 0.4682],\n",
       "        [0.5167, 0.4833]])"
      ]
     },
     "execution_count": 38,
     "metadata": {},
     "output_type": "execute_result"
    }
   ],
   "source": [
    "# However, the model output gives us logits. If these are negative, then the prediction\n",
    "# is negative, if they are positive, the prediction is positive.\n",
    "# We can turn these into probabilities with an activation function\n",
    "from torch import tensor\n",
    "from torch.nn import Sigmoid, Softmax\n",
    "\n",
    "activation = (\n",
    "    Softmax()\n",
    ")  # Since we have two exclusive classes, we use the Softmax function\n",
    "activation(tensor(pred.predictions))"
   ]
  },
  {
   "cell_type": "code",
   "execution_count": 39,
   "metadata": {},
   "outputs": [
    {
     "data": {
      "application/vnd.jupyter.widget-view+json": {
       "model_id": "4c316a0b5b1e474f8144dd781eaf2440",
       "version_major": 2,
       "version_minor": 0
      },
      "text/plain": [
       "  0%|          | 0/1 [00:00<?, ?ba/s]"
      ]
     },
     "metadata": {},
     "output_type": "display_data"
    },
    {
     "name": "stderr",
     "output_type": "stream",
     "text": [
      "No `TrainingArguments` passed, using `output_dir=tmp_trainer`.\n",
      "PyTorch: setting up devices\n",
      "The default value for the training argument `--report_to` will change in v5 (from all installed integrations to none). In v5, you will need to use `--report_to all` to get the same behavior as now. You should start updating your code and make this info disappear :-).\n",
      "The following columns in the training set don't have a corresponding argument in `RobertaForSequenceClassification.forward` and have been ignored: text. If text are not expected by `RobertaForSequenceClassification.forward`,  you can safely ignore this message.\n",
      "***** Running training *****\n",
      "  Num examples = 15\n",
      "  Num Epochs = 3\n",
      "  Instantaneous batch size per device = 8\n",
      "  Total train batch size (w. parallel, distributed & accumulation) = 8\n",
      "  Gradient Accumulation steps = 1\n",
      "  Total optimization steps = 6\n"
     ]
    },
    {
     "data": {
      "text/html": [
       "\n",
       "    <div>\n",
       "      \n",
       "      <progress value='6' max='6' style='width:300px; height:20px; vertical-align: middle;'></progress>\n",
       "      [6/6 00:03, Epoch 3/3]\n",
       "    </div>\n",
       "    <table border=\"1\" class=\"dataframe\">\n",
       "  <thead>\n",
       " <tr style=\"text-align: left;\">\n",
       "      <th>Step</th>\n",
       "      <th>Training Loss</th>\n",
       "    </tr>\n",
       "  </thead>\n",
       "  <tbody>\n",
       "  </tbody>\n",
       "</table><p>"
      ],
      "text/plain": [
       "<IPython.core.display.HTML object>"
      ]
     },
     "metadata": {},
     "output_type": "display_data"
    },
    {
     "name": "stderr",
     "output_type": "stream",
     "text": [
      "\n",
      "\n",
      "Training completed. Do not forget to share your model on huggingface.co/models =)\n",
      "\n",
      "\n"
     ]
    },
    {
     "data": {
      "application/vnd.jupyter.widget-view+json": {
       "model_id": "c0a3e24884994a6da153a001de727123",
       "version_major": 2,
       "version_minor": 0
      },
      "text/plain": [
       "  0%|          | 0/1 [00:00<?, ?ba/s]"
      ]
     },
     "metadata": {},
     "output_type": "display_data"
    },
    {
     "name": "stderr",
     "output_type": "stream",
     "text": [
      "The following columns in the test set don't have a corresponding argument in `RobertaForSequenceClassification.forward` and have been ignored: text. If text are not expected by `RobertaForSequenceClassification.forward`,  you can safely ignore this message.\n",
      "***** Running Prediction *****\n",
      "  Num examples = 3\n",
      "  Batch size = 8\n"
     ]
    },
    {
     "data": {
      "text/html": [],
      "text/plain": [
       "<IPython.core.display.HTML object>"
      ]
     },
     "metadata": {},
     "output_type": "display_data"
    },
    {
     "name": "stderr",
     "output_type": "stream",
     "text": [
      "/tmp/ipykernel_20245/3742539908.py:13: UserWarning: Implicit dimension choice for softmax has been deprecated. Change the call to include dim=X as an argument.\n",
      "  return activation(tensor(logits)).numpy()\n"
     ]
    },
    {
     "data": {
      "text/plain": [
       "array([[0.40779403, 0.59220594],\n",
       "       [0.61067414, 0.38932583],\n",
       "       [0.5248192 , 0.47518077]], dtype=float32)"
      ]
     },
     "execution_count": 39,
     "metadata": {},
     "output_type": "execute_result"
    }
   ],
   "source": [
    "# If we want to always get probabilities, we can subclass Trainer and add a new predict_proba method\n",
    "\n",
    "from transformers.trainer_utils import PredictionOutput\n",
    "\n",
    "\n",
    "class ProbTrainer(Trainer):\n",
    "    def predict_proba(self, test_dataset: Dataset) -> PredictionOutput:\n",
    "        logits = self.predict(test_dataset).predictions\n",
    "        if logits.shape[1] > 2:\n",
    "            activation = Sigmoid()\n",
    "        else:\n",
    "            activation = Softmax()\n",
    "        return activation(tensor(logits)).numpy()\n",
    "\n",
    "\n",
    "trainer = ProbTrainer(model=model, train_dataset=datasetify(texts, tokenizer, y))\n",
    "trainer.train()\n",
    "\n",
    "pred = trainer.predict_proba(datasetify(new_texts, tokenizer))\n",
    "pred"
   ]
  },
  {
   "cell_type": "code",
   "execution_count": 40,
   "metadata": {},
   "outputs": [
    {
     "data": {
      "text/plain": [
       "array([[0., 1., 0., 0., 0.],\n",
       "       [0., 0., 0., 0., 1.],\n",
       "       [0., 0., 0., 0., 1.],\n",
       "       [0., 0., 0., 0., 1.],\n",
       "       [0., 0., 0., 1., 0.]])"
      ]
     },
     "execution_count": 40,
     "metadata": {},
     "output_type": "execute_result"
    }
   ],
   "source": [
    "### To do multilabel learning, we just need the data in the same format as before\n",
    "# create an x and y variable with a sample of 200 relevant documents\n",
    "samples = df[df[\"INCLUDE\"] == 1].sample(5).index\n",
    "X = df.iloc[samples][\"abstract\"]\n",
    "y = df.iloc[samples][impacts].values\n",
    "y"
   ]
  },
  {
   "cell_type": "code",
   "execution_count": 42,
   "metadata": {},
   "outputs": [
    {
     "name": "stderr",
     "output_type": "stream",
     "text": [
      "loading configuration file https://huggingface.co/climatebert/distilroberta-base-climate-f/resolve/main/config.json from cache at /home/max/.cache/huggingface/transformers/82c3d717cd158a55810d12484b95ea019844ecb6e5e860ead378d0d98b2c190a.2ae894217f03434702f7a4881de106e5bd76e3f3bd6ee1f81fd1551c47bc898d\n",
      "Model config RobertaConfig {\n",
      "  \"_name_or_path\": \"climatebert/distilroberta-base-climate-f\",\n",
      "  \"architectures\": [\n",
      "    \"RobertaForMaskedLM\"\n",
      "  ],\n",
      "  \"attention_probs_dropout_prob\": 0.1,\n",
      "  \"bos_token_id\": 0,\n",
      "  \"classifier_dropout\": null,\n",
      "  \"eos_token_id\": 2,\n",
      "  \"gradient_checkpointing\": false,\n",
      "  \"hidden_act\": \"gelu\",\n",
      "  \"hidden_dropout_prob\": 0.1,\n",
      "  \"hidden_size\": 768,\n",
      "  \"id2label\": {\n",
      "    \"0\": \"LABEL_0\",\n",
      "    \"1\": \"LABEL_1\",\n",
      "    \"2\": \"LABEL_2\",\n",
      "    \"3\": \"LABEL_3\",\n",
      "    \"4\": \"LABEL_4\"\n",
      "  },\n",
      "  \"initializer_range\": 0.02,\n",
      "  \"intermediate_size\": 3072,\n",
      "  \"label2id\": {\n",
      "    \"LABEL_0\": 0,\n",
      "    \"LABEL_1\": 1,\n",
      "    \"LABEL_2\": 2,\n",
      "    \"LABEL_3\": 3,\n",
      "    \"LABEL_4\": 4\n",
      "  },\n",
      "  \"layer_norm_eps\": 1e-05,\n",
      "  \"max_position_embeddings\": 514,\n",
      "  \"model_type\": \"roberta\",\n",
      "  \"num_attention_heads\": 12,\n",
      "  \"num_hidden_layers\": 6,\n",
      "  \"pad_token_id\": 1,\n",
      "  \"position_embedding_type\": \"absolute\",\n",
      "  \"torch_dtype\": \"float32\",\n",
      "  \"transformers_version\": \"4.21.0\",\n",
      "  \"type_vocab_size\": 1,\n",
      "  \"use_cache\": true,\n",
      "  \"vocab_size\": 50500\n",
      "}\n",
      "\n",
      "loading weights file https://huggingface.co/climatebert/distilroberta-base-climate-f/resolve/main/pytorch_model.bin from cache at /home/max/.cache/huggingface/transformers/f50916dff9be1ef97fc437217e252e99e9d273f5969582cf5def713eefbc317b.343bfeb818d63c0395be7e8da5738f7efad9e8bfb41b105b6db62aa916cfb668\n",
      "Some weights of the model checkpoint at climatebert/distilroberta-base-climate-f were not used when initializing RobertaForSequenceClassification: ['lm_head.dense.weight', 'lm_head.layer_norm.bias', 'lm_head.layer_norm.weight', 'lm_head.bias', 'lm_head.dense.bias']\n",
      "- This IS expected if you are initializing RobertaForSequenceClassification from the checkpoint of a model trained on another task or with another architecture (e.g. initializing a BertForSequenceClassification model from a BertForPreTraining model).\n",
      "- This IS NOT expected if you are initializing RobertaForSequenceClassification from the checkpoint of a model that you expect to be exactly identical (initializing a BertForSequenceClassification model from a BertForSequenceClassification model).\n",
      "Some weights of RobertaForSequenceClassification were not initialized from the model checkpoint at climatebert/distilroberta-base-climate-f and are newly initialized: ['classifier.dense.bias', 'classifier.dense.weight', 'classifier.out_proj.bias', 'classifier.out_proj.weight']\n",
      "You should probably TRAIN this model on a down-stream task to be able to use it for predictions and inference.\n"
     ]
    },
    {
     "data": {
      "application/vnd.jupyter.widget-view+json": {
       "model_id": "ea69fa74ffad44f98d808529c608efcf",
       "version_major": 2,
       "version_minor": 0
      },
      "text/plain": [
       "  0%|          | 0/1 [00:00<?, ?ba/s]"
      ]
     },
     "metadata": {},
     "output_type": "display_data"
    },
    {
     "name": "stderr",
     "output_type": "stream",
     "text": [
      "No `TrainingArguments` passed, using `output_dir=tmp_trainer`.\n",
      "PyTorch: setting up devices\n",
      "The default value for the training argument `--report_to` will change in v5 (from all installed integrations to none). In v5, you will need to use `--report_to all` to get the same behavior as now. You should start updating your code and make this info disappear :-).\n",
      "The following columns in the training set don't have a corresponding argument in `RobertaForSequenceClassification.forward` and have been ignored: text. If text are not expected by `RobertaForSequenceClassification.forward`,  you can safely ignore this message.\n",
      "***** Running training *****\n",
      "  Num examples = 5\n",
      "  Num Epochs = 3\n",
      "  Instantaneous batch size per device = 8\n",
      "  Total train batch size (w. parallel, distributed & accumulation) = 8\n",
      "  Gradient Accumulation steps = 1\n",
      "  Total optimization steps = 3\n"
     ]
    },
    {
     "data": {
      "text/html": [
       "\n",
       "    <div>\n",
       "      \n",
       "      <progress value='3' max='3' style='width:300px; height:20px; vertical-align: middle;'></progress>\n",
       "      [3/3 00:11, Epoch 3/3]\n",
       "    </div>\n",
       "    <table border=\"1\" class=\"dataframe\">\n",
       "  <thead>\n",
       " <tr style=\"text-align: left;\">\n",
       "      <th>Step</th>\n",
       "      <th>Training Loss</th>\n",
       "    </tr>\n",
       "  </thead>\n",
       "  <tbody>\n",
       "  </tbody>\n",
       "</table><p>"
      ],
      "text/plain": [
       "<IPython.core.display.HTML object>"
      ]
     },
     "metadata": {},
     "output_type": "display_data"
    },
    {
     "name": "stderr",
     "output_type": "stream",
     "text": [
      "\n",
      "\n",
      "Training completed. Do not forget to share your model on huggingface.co/models =)\n",
      "\n",
      "\n"
     ]
    },
    {
     "data": {
      "application/vnd.jupyter.widget-view+json": {
       "model_id": "fa0ce3b0d9214409a2727045ba7ad717",
       "version_major": 2,
       "version_minor": 0
      },
      "text/plain": [
       "  0%|          | 0/1 [00:00<?, ?ba/s]"
      ]
     },
     "metadata": {},
     "output_type": "display_data"
    },
    {
     "name": "stderr",
     "output_type": "stream",
     "text": [
      "The following columns in the test set don't have a corresponding argument in `RobertaForSequenceClassification.forward` and have been ignored: text. If text are not expected by `RobertaForSequenceClassification.forward`,  you can safely ignore this message.\n",
      "***** Running Prediction *****\n",
      "  Num examples = 3\n",
      "  Batch size = 8\n"
     ]
    },
    {
     "data": {
      "text/html": [],
      "text/plain": [
       "<IPython.core.display.HTML object>"
      ]
     },
     "metadata": {},
     "output_type": "display_data"
    },
    {
     "data": {
      "text/plain": [
       "array([[0.5063088 , 0.5171989 , 0.5075089 , 0.48348302, 0.451609  ],\n",
       "       [0.5074933 , 0.5217197 , 0.5122858 , 0.4859028 , 0.4514132 ],\n",
       "       [0.508191  , 0.5170327 , 0.5082103 , 0.48727104, 0.45309764]],\n",
       "      dtype=float32)"
      ]
     },
     "execution_count": 42,
     "metadata": {},
     "output_type": "execute_result"
    }
   ],
   "source": [
    "model = AutoModelForSequenceClassification.from_pretrained(model_name, num_labels=5)\n",
    "trainer = ProbTrainer(model=model, train_dataset=datasetify(X, tokenizer, y))\n",
    "trainer.train()\n",
    "\n",
    "pred = trainer.predict_proba(datasetify(new_texts, tokenizer))\n",
    "pred"
   ]
  }
 ],
 "metadata": {
  "kernelspec": {
   "display_name": "Python3.9 (py39)",
   "language": "python",
   "name": "py39"
  },
  "language_info": {
   "codemirror_mode": {
    "name": "ipython",
    "version": 3
   },
   "file_extension": ".py",
   "mimetype": "text/x-python",
   "name": "python",
   "nbconvert_exporter": "python",
   "pygments_lexer": "ipython3",
   "version": "3.9.13"
  }
 },
 "nbformat": 4,
 "nbformat_minor": 4
}
