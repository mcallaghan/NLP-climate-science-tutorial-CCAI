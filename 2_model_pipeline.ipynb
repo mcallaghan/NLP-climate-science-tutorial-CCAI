{
 "cells": [
  {
   "cell_type": "markdown",
   "metadata": {},
   "source": [
    "# Model Pipeline\n",
    "\n",
    "In this notebook we'll go through the steps we need to take to load labelled data and train a model to predict a label based on text input. We'll start off with a simple model using Support Vector Machines (SVMs), before exploring how we would do this using by fine-tuning a language model using [transformers](https://huggingface.co/docs/transformers/index) 🤗"
   ]
  },
  {
   "cell_type": "markdown",
   "metadata": {},
   "source": [
    "## Data\n",
    "\n",
    "We'll start by loading our labels and merging these with the studies we downloaded from OpenAlex"
   ]
  },
  {
   "cell_type": "code",
   "execution_count": 1,
   "metadata": {},
   "outputs": [],
   "source": [
    "import pandas as pd\n",
    "import matplotlib.pyplot as plt\n",
    "import numpy as np"
   ]
  },
  {
   "cell_type": "code",
   "execution_count": 2,
   "metadata": {},
   "outputs": [],
   "source": [
    "import re\n",
    "labelled_data = pd.read_csv('data/0_labelled_documents.csv')\n",
    "\n",
    "impacts = [x for x in labelled_data.columns if re.match(\"^12 -\",x)]\n",
    "labelled_data = labelled_data[[\"id\",\"content\",\"title\",\"seen\",\"INCLUDE\"] + impacts]\n",
    "labelled_data = labelled_data.drop(columns=\"12 - Physical systems\")\n",
    "impacts = [x for x in labelled_data.columns if re.match(\"^12 -\",x)]\n",
    "labelled_data = labelled_data.rename(columns={\"content\": \"abstract\"})\n",
    "labelled_data = labelled_data.drop(labelled_data[(labelled_data[\"INCLUDE\"]==1) & (labelled_data[impacts].sum(axis=1)==0)].index)\n",
    "labelled_data.to_csv('data/labelled_data.csv', index=False)\n"
   ]
  },
  {
   "cell_type": "code",
   "execution_count": null,
   "metadata": {},
   "outputs": [],
   "source": []
  },
  {
   "cell_type": "code",
   "execution_count": 3,
   "metadata": {},
   "outputs": [
    {
     "name": "stdout",
     "output_type": "stream",
     "text": [
      "(2500, 11)\n"
     ]
    },
    {
     "data": {
      "text/html": [
       "<div>\n",
       "<style scoped>\n",
       "    .dataframe tbody tr th:only-of-type {\n",
       "        vertical-align: middle;\n",
       "    }\n",
       "\n",
       "    .dataframe tbody tr th {\n",
       "        vertical-align: top;\n",
       "    }\n",
       "\n",
       "    .dataframe thead th {\n",
       "        text-align: right;\n",
       "    }\n",
       "</style>\n",
       "<table border=\"1\" class=\"dataframe\">\n",
       "  <thead>\n",
       "    <tr style=\"text-align: right;\">\n",
       "      <th></th>\n",
       "      <th>id</th>\n",
       "      <th>abstract</th>\n",
       "      <th>title</th>\n",
       "      <th>seen</th>\n",
       "      <th>INCLUDE</th>\n",
       "      <th>12 - Coastal and marine Ecosystems</th>\n",
       "      <th>12 - Human and managed</th>\n",
       "      <th>12 - Mountains, snow and ice</th>\n",
       "      <th>12 - Rivers, lakes, and soil moisture</th>\n",
       "      <th>12 - Terrestrial ES</th>\n",
       "      <th>title_lcase</th>\n",
       "    </tr>\n",
       "  </thead>\n",
       "  <tbody>\n",
       "    <tr>\n",
       "      <th>0</th>\n",
       "      <td>1448689</td>\n",
       "      <td>The city of Bismarck, North Dakota has one of ...</td>\n",
       "      <td>Key Factors Influencing the Incidence of West ...</td>\n",
       "      <td>1.0</td>\n",
       "      <td>0.0</td>\n",
       "      <td>0.0</td>\n",
       "      <td>1.0</td>\n",
       "      <td>0.0</td>\n",
       "      <td>0.0</td>\n",
       "      <td>0.0</td>\n",
       "      <td>keyfactorsinfluencingtheincidenceofwestnilevir...</td>\n",
       "    </tr>\n",
       "    <tr>\n",
       "      <th>1</th>\n",
       "      <td>3281128</td>\n",
       "      <td>Changing precipitation regimes can profoundly ...</td>\n",
       "      <td>Asymmetric responses of plant community struct...</td>\n",
       "      <td>1.0</td>\n",
       "      <td>1.0</td>\n",
       "      <td>0.0</td>\n",
       "      <td>0.0</td>\n",
       "      <td>0.0</td>\n",
       "      <td>0.0</td>\n",
       "      <td>1.0</td>\n",
       "      <td>asymmetricresponsesofplantcommunitystructurean...</td>\n",
       "    </tr>\n",
       "    <tr>\n",
       "      <th>2</th>\n",
       "      <td>900708</td>\n",
       "      <td>Climate influences forest structure through ef...</td>\n",
       "      <td>Climate effects on fire regimes and tree recru...</td>\n",
       "      <td>1.0</td>\n",
       "      <td>1.0</td>\n",
       "      <td>0.0</td>\n",
       "      <td>0.0</td>\n",
       "      <td>0.0</td>\n",
       "      <td>0.0</td>\n",
       "      <td>1.0</td>\n",
       "      <td>climateeffectsonfireregimesandtreerecruitmenti...</td>\n",
       "    </tr>\n",
       "    <tr>\n",
       "      <th>3</th>\n",
       "      <td>3234419</td>\n",
       "      <td>Climate change is likely to bring more, hotter...</td>\n",
       "      <td>Climate change adaptation and mitigation ? a h...</td>\n",
       "      <td>1.0</td>\n",
       "      <td>1.0</td>\n",
       "      <td>0.0</td>\n",
       "      <td>1.0</td>\n",
       "      <td>0.0</td>\n",
       "      <td>0.0</td>\n",
       "      <td>0.0</td>\n",
       "      <td>climatechangeadaptationandmitigationahitherton...</td>\n",
       "    </tr>\n",
       "    <tr>\n",
       "      <th>4</th>\n",
       "      <td>2090028</td>\n",
       "      <td>Aim The long-term stability of coastal ecosyst...</td>\n",
       "      <td>Caribbean mangroves adjust to rising sea level...</td>\n",
       "      <td>1.0</td>\n",
       "      <td>1.0</td>\n",
       "      <td>1.0</td>\n",
       "      <td>0.0</td>\n",
       "      <td>0.0</td>\n",
       "      <td>0.0</td>\n",
       "      <td>0.0</td>\n",
       "      <td>caribbeanmangrovesadjusttorisingsealevelthroug...</td>\n",
       "    </tr>\n",
       "  </tbody>\n",
       "</table>\n",
       "</div>"
      ],
      "text/plain": [
       "        id                                           abstract  \\\n",
       "0  1448689  The city of Bismarck, North Dakota has one of ...   \n",
       "1  3281128  Changing precipitation regimes can profoundly ...   \n",
       "2   900708  Climate influences forest structure through ef...   \n",
       "3  3234419  Climate change is likely to bring more, hotter...   \n",
       "4  2090028  Aim The long-term stability of coastal ecosyst...   \n",
       "\n",
       "                                               title  seen  INCLUDE  \\\n",
       "0  Key Factors Influencing the Incidence of West ...   1.0      0.0   \n",
       "1  Asymmetric responses of plant community struct...   1.0      1.0   \n",
       "2  Climate effects on fire regimes and tree recru...   1.0      1.0   \n",
       "3  Climate change adaptation and mitigation ? a h...   1.0      1.0   \n",
       "4  Caribbean mangroves adjust to rising sea level...   1.0      1.0   \n",
       "\n",
       "   12 - Coastal and marine Ecosystems  12 - Human and managed  \\\n",
       "0                                 0.0                     1.0   \n",
       "1                                 0.0                     0.0   \n",
       "2                                 0.0                     0.0   \n",
       "3                                 0.0                     1.0   \n",
       "4                                 1.0                     0.0   \n",
       "\n",
       "   12 - Mountains, snow and ice  12 - Rivers, lakes, and soil moisture  \\\n",
       "0                           0.0                                    0.0   \n",
       "1                           0.0                                    0.0   \n",
       "2                           0.0                                    0.0   \n",
       "3                           0.0                                    0.0   \n",
       "4                           0.0                                    0.0   \n",
       "\n",
       "   12 - Terrestrial ES                                        title_lcase  \n",
       "0                  0.0  keyfactorsinfluencingtheincidenceofwestnilevir...  \n",
       "1                  1.0  asymmetricresponsesofplantcommunitystructurean...  \n",
       "2                  1.0  climateeffectsonfireregimesandtreerecruitmenti...  \n",
       "3                  0.0  climatechangeadaptationandmitigationahitherton...  \n",
       "4                  0.0  caribbeanmangrovesadjusttorisingsealevelthroug...  "
      ]
     },
     "execution_count": 3,
     "metadata": {},
     "output_type": "execute_result"
    }
   ],
   "source": [
    "labelled_data = pd.read_csv(\"data/labelled_data.csv\")\n",
    "\n",
    "# We create a lower case version of the title without spaces and punctuation, to allow for merging\n",
    "labelled_data[\"title_lcase\"] = labelled_data[\"title\"].apply(lambda x: re.sub(\"\\W\",\"\",x).lower())\n",
    "# We also want to get rid of documents without abstracts, as we can't use these for learning\n",
    "labelled_data = labelled_data.dropna(subset=[\"abstract\"])\n",
    "print(labelled_data.shape)\n",
    "labelled_data.head()"
   ]
  },
  {
   "cell_type": "code",
   "execution_count": 4,
   "metadata": {},
   "outputs": [
    {
     "name": "stdout",
     "output_type": "stream",
     "text": [
      "(8113, 8)\n"
     ]
    },
    {
     "data": {
      "text/html": [
       "<div>\n",
       "<style scoped>\n",
       "    .dataframe tbody tr th:only-of-type {\n",
       "        vertical-align: middle;\n",
       "    }\n",
       "\n",
       "    .dataframe tbody tr th {\n",
       "        vertical-align: top;\n",
       "    }\n",
       "\n",
       "    .dataframe thead th {\n",
       "        text-align: right;\n",
       "    }\n",
       "</style>\n",
       "<table border=\"1\" class=\"dataframe\">\n",
       "  <thead>\n",
       "    <tr style=\"text-align: right;\">\n",
       "      <th></th>\n",
       "      <th>OA_id</th>\n",
       "      <th>doi</th>\n",
       "      <th>title</th>\n",
       "      <th>publication_year</th>\n",
       "      <th>abstract</th>\n",
       "      <th>authors</th>\n",
       "      <th>title_lcase</th>\n",
       "      <th>seen</th>\n",
       "    </tr>\n",
       "  </thead>\n",
       "  <tbody>\n",
       "    <tr>\n",
       "      <th>0</th>\n",
       "      <td>https://openalex.org/W2076977109</td>\n",
       "      <td>https://doi.org/10.1038/nature03906</td>\n",
       "      <td>Increasing destructiveness of tropical cyclone...</td>\n",
       "      <td>2005</td>\n",
       "      <td>Theory and modelling predict that hurricane in...</td>\n",
       "      <td>Kerry Emanuel</td>\n",
       "      <td>increasingdestructivenessoftropicalcyclonesove...</td>\n",
       "      <td>0</td>\n",
       "    </tr>\n",
       "    <tr>\n",
       "      <th>1</th>\n",
       "      <td>https://openalex.org/W2171979944</td>\n",
       "      <td>https://doi.org/10.1007/s00425-003-1105-5</td>\n",
       "      <td>Plant responses to drought, salinity and extre...</td>\n",
       "      <td>2003</td>\n",
       "      <td>Abiotic stresses, such as drought, salinity, e...</td>\n",
       "      <td>Wangxia Wang, Basia Vinocur, Arie Altman</td>\n",
       "      <td>plantresponsestodroughtsalinityandextremetempe...</td>\n",
       "      <td>0</td>\n",
       "    </tr>\n",
       "    <tr>\n",
       "      <th>2</th>\n",
       "      <td>https://openalex.org/W2122582889</td>\n",
       "      <td>https://doi.org/10.1073/pnas.0505734102</td>\n",
       "      <td>Regional vegetation die-off in response to glo...</td>\n",
       "      <td>2005</td>\n",
       "      <td>Future drought is projected to occur under war...</td>\n",
       "      <td>David D. Breshears, Neil S. Cobb, Paul M. Rich...</td>\n",
       "      <td>regionalvegetationdieoffinresponsetoglobalchan...</td>\n",
       "      <td>0</td>\n",
       "    </tr>\n",
       "    <tr>\n",
       "      <th>3</th>\n",
       "      <td>https://openalex.org/W2101875448</td>\n",
       "      <td>NaN</td>\n",
       "      <td>INTRODUCED SPECIES: A SIGNIFICANT COMPONENT OF...</td>\n",
       "      <td>1997</td>\n",
       "      <td>Humans move species beyond their native ranges...</td>\n",
       "      <td>Peter M. Vitousek, Carla M. D'Antonio, Lloyd L...</td>\n",
       "      <td>introducedspeciesasignificantcomponentofhumanc...</td>\n",
       "      <td>0</td>\n",
       "    </tr>\n",
       "    <tr>\n",
       "      <th>4</th>\n",
       "      <td>https://openalex.org/W2161828152</td>\n",
       "      <td>https://doi.org/10.1073/pnas.0901438106</td>\n",
       "      <td>Temperature sensitivity of drought-induced tre...</td>\n",
       "      <td>2009</td>\n",
       "      <td>Large-scale biogeographical shifts in vegetati...</td>\n",
       "      <td>Henry D. Adams, Maite Guardiola-Claramonte, Gr...</td>\n",
       "      <td>temperaturesensitivityofdroughtinducedtreemort...</td>\n",
       "      <td>0</td>\n",
       "    </tr>\n",
       "  </tbody>\n",
       "</table>\n",
       "</div>"
      ],
      "text/plain": [
       "                              OA_id  \\\n",
       "0  https://openalex.org/W2076977109   \n",
       "1  https://openalex.org/W2171979944   \n",
       "2  https://openalex.org/W2122582889   \n",
       "3  https://openalex.org/W2101875448   \n",
       "4  https://openalex.org/W2161828152   \n",
       "\n",
       "                                         doi  \\\n",
       "0        https://doi.org/10.1038/nature03906   \n",
       "1  https://doi.org/10.1007/s00425-003-1105-5   \n",
       "2    https://doi.org/10.1073/pnas.0505734102   \n",
       "3                                        NaN   \n",
       "4    https://doi.org/10.1073/pnas.0901438106   \n",
       "\n",
       "                                               title  publication_year  \\\n",
       "0  Increasing destructiveness of tropical cyclone...              2005   \n",
       "1  Plant responses to drought, salinity and extre...              2003   \n",
       "2  Regional vegetation die-off in response to glo...              2005   \n",
       "3  INTRODUCED SPECIES: A SIGNIFICANT COMPONENT OF...              1997   \n",
       "4  Temperature sensitivity of drought-induced tre...              2009   \n",
       "\n",
       "                                            abstract  \\\n",
       "0  Theory and modelling predict that hurricane in...   \n",
       "1  Abiotic stresses, such as drought, salinity, e...   \n",
       "2  Future drought is projected to occur under war...   \n",
       "3  Humans move species beyond their native ranges...   \n",
       "4  Large-scale biogeographical shifts in vegetati...   \n",
       "\n",
       "                                             authors  \\\n",
       "0                                      Kerry Emanuel   \n",
       "1           Wangxia Wang, Basia Vinocur, Arie Altman   \n",
       "2  David D. Breshears, Neil S. Cobb, Paul M. Rich...   \n",
       "3  Peter M. Vitousek, Carla M. D'Antonio, Lloyd L...   \n",
       "4  Henry D. Adams, Maite Guardiola-Claramonte, Gr...   \n",
       "\n",
       "                                         title_lcase  seen  \n",
       "0  increasingdestructivenessoftropicalcyclonesove...     0  \n",
       "1  plantresponsestodroughtsalinityandextremetempe...     0  \n",
       "2  regionalvegetationdieoffinresponsetoglobalchan...     0  \n",
       "3  introducedspeciesasignificantcomponentofhumanc...     0  \n",
       "4  temperaturesensitivityofdroughtinducedtreemort...     0  "
      ]
     },
     "execution_count": 4,
     "metadata": {},
     "output_type": "execute_result"
    }
   ],
   "source": [
    "# Now we load the Open alex data, and create the same title variable for merging\n",
    "\n",
    "oa_data = pd.read_csv(\"data/openalex_data.csv\").rename(columns={\"id\": \"OA_id\"})\n",
    "oa_data[\"title_lcase\"] = oa_data[\"title\"].apply(lambda x: re.sub(\"\\W\",\"\",x).lower())\n",
    "oa_data = oa_data.dropna(subset=[\"abstract\"])\n",
    "oa_data[\"seen\"] = 0\n",
    "print(oa_data.shape)\n",
    "oa_data.head()"
   ]
  },
  {
   "cell_type": "code",
   "execution_count": 5,
   "metadata": {},
   "outputs": [
    {
     "name": "stdout",
     "output_type": "stream",
     "text": [
      "(10539, 15)\n"
     ]
    },
    {
     "data": {
      "text/html": [
       "<div>\n",
       "<style scoped>\n",
       "    .dataframe tbody tr th:only-of-type {\n",
       "        vertical-align: middle;\n",
       "    }\n",
       "\n",
       "    .dataframe tbody tr th {\n",
       "        vertical-align: top;\n",
       "    }\n",
       "\n",
       "    .dataframe thead th {\n",
       "        text-align: right;\n",
       "    }\n",
       "</style>\n",
       "<table border=\"1\" class=\"dataframe\">\n",
       "  <thead>\n",
       "    <tr style=\"text-align: right;\">\n",
       "      <th></th>\n",
       "      <th>id</th>\n",
       "      <th>abstract</th>\n",
       "      <th>title</th>\n",
       "      <th>seen</th>\n",
       "      <th>INCLUDE</th>\n",
       "      <th>12 - Coastal and marine Ecosystems</th>\n",
       "      <th>12 - Human and managed</th>\n",
       "      <th>12 - Mountains, snow and ice</th>\n",
       "      <th>12 - Rivers, lakes, and soil moisture</th>\n",
       "      <th>12 - Terrestrial ES</th>\n",
       "      <th>title_lcase</th>\n",
       "      <th>OA_id</th>\n",
       "      <th>doi</th>\n",
       "      <th>publication_year</th>\n",
       "      <th>authors</th>\n",
       "    </tr>\n",
       "  </thead>\n",
       "  <tbody>\n",
       "    <tr>\n",
       "      <th>0</th>\n",
       "      <td>1448689.0</td>\n",
       "      <td>The city of Bismarck, North Dakota has one of ...</td>\n",
       "      <td>Key Factors Influencing the Incidence of West ...</td>\n",
       "      <td>1.0</td>\n",
       "      <td>0.0</td>\n",
       "      <td>0.0</td>\n",
       "      <td>1.0</td>\n",
       "      <td>0.0</td>\n",
       "      <td>0.0</td>\n",
       "      <td>0.0</td>\n",
       "      <td>keyfactorsinfluencingtheincidenceofwestnilevir...</td>\n",
       "      <td>NaN</td>\n",
       "      <td>NaN</td>\n",
       "      <td>NaN</td>\n",
       "      <td>NaN</td>\n",
       "    </tr>\n",
       "    <tr>\n",
       "      <th>1</th>\n",
       "      <td>3281128.0</td>\n",
       "      <td>Changing precipitation regimes can profoundly ...</td>\n",
       "      <td>Asymmetric responses of plant community struct...</td>\n",
       "      <td>1.0</td>\n",
       "      <td>1.0</td>\n",
       "      <td>0.0</td>\n",
       "      <td>0.0</td>\n",
       "      <td>0.0</td>\n",
       "      <td>0.0</td>\n",
       "      <td>1.0</td>\n",
       "      <td>asymmetricresponsesofplantcommunitystructurean...</td>\n",
       "      <td>NaN</td>\n",
       "      <td>NaN</td>\n",
       "      <td>NaN</td>\n",
       "      <td>NaN</td>\n",
       "    </tr>\n",
       "    <tr>\n",
       "      <th>2</th>\n",
       "      <td>900708.0</td>\n",
       "      <td>Climate influences forest structure through ef...</td>\n",
       "      <td>Climate effects on fire regimes and tree recru...</td>\n",
       "      <td>1.0</td>\n",
       "      <td>1.0</td>\n",
       "      <td>0.0</td>\n",
       "      <td>0.0</td>\n",
       "      <td>0.0</td>\n",
       "      <td>0.0</td>\n",
       "      <td>1.0</td>\n",
       "      <td>climateeffectsonfireregimesandtreerecruitmenti...</td>\n",
       "      <td>NaN</td>\n",
       "      <td>NaN</td>\n",
       "      <td>NaN</td>\n",
       "      <td>NaN</td>\n",
       "    </tr>\n",
       "    <tr>\n",
       "      <th>3</th>\n",
       "      <td>3234419.0</td>\n",
       "      <td>Climate change is likely to bring more, hotter...</td>\n",
       "      <td>Climate change adaptation and mitigation ? a h...</td>\n",
       "      <td>1.0</td>\n",
       "      <td>1.0</td>\n",
       "      <td>0.0</td>\n",
       "      <td>1.0</td>\n",
       "      <td>0.0</td>\n",
       "      <td>0.0</td>\n",
       "      <td>0.0</td>\n",
       "      <td>climatechangeadaptationandmitigationahitherton...</td>\n",
       "      <td>NaN</td>\n",
       "      <td>NaN</td>\n",
       "      <td>NaN</td>\n",
       "      <td>NaN</td>\n",
       "    </tr>\n",
       "    <tr>\n",
       "      <th>4</th>\n",
       "      <td>2090028.0</td>\n",
       "      <td>Aim The long-term stability of coastal ecosyst...</td>\n",
       "      <td>Caribbean mangroves adjust to rising sea level...</td>\n",
       "      <td>1.0</td>\n",
       "      <td>1.0</td>\n",
       "      <td>1.0</td>\n",
       "      <td>0.0</td>\n",
       "      <td>0.0</td>\n",
       "      <td>0.0</td>\n",
       "      <td>0.0</td>\n",
       "      <td>caribbeanmangrovesadjusttorisingsealevelthroug...</td>\n",
       "      <td>NaN</td>\n",
       "      <td>NaN</td>\n",
       "      <td>NaN</td>\n",
       "      <td>NaN</td>\n",
       "    </tr>\n",
       "  </tbody>\n",
       "</table>\n",
       "</div>"
      ],
      "text/plain": [
       "          id                                           abstract  \\\n",
       "0  1448689.0  The city of Bismarck, North Dakota has one of ...   \n",
       "1  3281128.0  Changing precipitation regimes can profoundly ...   \n",
       "2   900708.0  Climate influences forest structure through ef...   \n",
       "3  3234419.0  Climate change is likely to bring more, hotter...   \n",
       "4  2090028.0  Aim The long-term stability of coastal ecosyst...   \n",
       "\n",
       "                                               title  seen  INCLUDE  \\\n",
       "0  Key Factors Influencing the Incidence of West ...   1.0      0.0   \n",
       "1  Asymmetric responses of plant community struct...   1.0      1.0   \n",
       "2  Climate effects on fire regimes and tree recru...   1.0      1.0   \n",
       "3  Climate change adaptation and mitigation ? a h...   1.0      1.0   \n",
       "4  Caribbean mangroves adjust to rising sea level...   1.0      1.0   \n",
       "\n",
       "   12 - Coastal and marine Ecosystems  12 - Human and managed  \\\n",
       "0                                 0.0                     1.0   \n",
       "1                                 0.0                     0.0   \n",
       "2                                 0.0                     0.0   \n",
       "3                                 0.0                     1.0   \n",
       "4                                 1.0                     0.0   \n",
       "\n",
       "   12 - Mountains, snow and ice  12 - Rivers, lakes, and soil moisture  \\\n",
       "0                           0.0                                    0.0   \n",
       "1                           0.0                                    0.0   \n",
       "2                           0.0                                    0.0   \n",
       "3                           0.0                                    0.0   \n",
       "4                           0.0                                    0.0   \n",
       "\n",
       "   12 - Terrestrial ES                                        title_lcase  \\\n",
       "0                  0.0  keyfactorsinfluencingtheincidenceofwestnilevir...   \n",
       "1                  1.0  asymmetricresponsesofplantcommunitystructurean...   \n",
       "2                  1.0  climateeffectsonfireregimesandtreerecruitmenti...   \n",
       "3                  0.0  climatechangeadaptationandmitigationahitherton...   \n",
       "4                  0.0  caribbeanmangrovesadjusttorisingsealevelthroug...   \n",
       "\n",
       "  OA_id  doi  publication_year authors  \n",
       "0   NaN  NaN               NaN     NaN  \n",
       "1   NaN  NaN               NaN     NaN  \n",
       "2   NaN  NaN               NaN     NaN  \n",
       "3   NaN  NaN               NaN     NaN  \n",
       "4   NaN  NaN               NaN     NaN  "
      ]
     },
     "execution_count": 5,
     "metadata": {},
     "output_type": "execute_result"
    }
   ],
   "source": [
    "# Now we add the OpenAlex rows which are not in the labelled data to the labelled_data\n",
    "df = pd.concat([\n",
    "    labelled_data, \n",
    "    oa_data[~oa_data['title_lcase'].isin(labelled_data['title_lcase'])]\n",
    "])\n",
    "print(df.shape)\n",
    "df.head()"
   ]
  },
  {
   "cell_type": "markdown",
   "metadata": {},
   "source": [
    "### Inspecting our labels\n",
    "\n",
    "We can take a quick look at how many of which type of labels we have"
   ]
  },
  {
   "cell_type": "code",
   "execution_count": 6,
   "metadata": {},
   "outputs": [
    {
     "data": {
      "text/plain": [
       "<AxesSubplot:xlabel='seen'>"
      ]
     },
     "execution_count": 6,
     "metadata": {},
     "output_type": "execute_result"
    },
    {
     "data": {
      "image/png": "[encoded data removed]",
      "text/plain": [
       "<Figure size 432x288 with 1 Axes>"
      ]
     },
     "metadata": {
      "needs_background": "light"
     },
     "output_type": "display_data"
    }
   ],
   "source": [
    "# We can quickly plot how many documents have been labelled, and how many not\n",
    "df.groupby(\"seen\")[\"title\"].count().plot.bar()"
   ]
  },
  {
   "cell_type": "code",
   "execution_count": 7,
   "metadata": {},
   "outputs": [
    {
     "data": {
      "text/plain": [
       "<AxesSubplot:xlabel='INCLUDE'>"
      ]
     },
     "execution_count": 7,
     "metadata": {},
     "output_type": "execute_result"
    },
    {
     "data": {
      "image/png": "[encoded data removed]",
      "text/plain": [
       "<Figure size 432x288 with 1 Axes>"
      ]
     },
     "metadata": {
      "needs_background": "light"
     },
     "output_type": "display_data"
    }
   ],
   "source": [
    "# and also plot how many of the labelled docs were included\n",
    "df.groupby(\"INCLUDE\")[\"title\"].count().plot.bar()"
   ]
  },
  {
   "cell_type": "code",
   "execution_count": 8,
   "metadata": {},
   "outputs": [
    {
     "data": {
      "text/plain": [
       "<AxesSubplot:>"
      ]
     },
     "execution_count": 8,
     "metadata": {},
     "output_type": "execute_result"
    },
    {
     "data": {
      "image/png": "[encoded data removed]",
      "text/plain": [
       "<Figure size 432x288 with 1 Axes>"
      ]
     },
     "metadata": {
      "needs_background": "light"
     },
     "output_type": "display_data"
    }
   ],
   "source": [
    "# Finally we can plot how many examples of each impact type we have\n",
    "\n",
    "impacts = [x for x in df.columns if re.match(\"12 -\",x)]\n",
    "df[impacts].sum().plot.barh()"
   ]
  },
  {
   "cell_type": "markdown",
   "metadata": {},
   "source": [
    "## A pipeline for a simple machine learning model\n",
    "\n",
    "Now we want to put together a pipeline for a simple machine learning model. We'll start off by trying to predict the binary INCLUSION label, then move onto the impact type, which is a **multilabel** output. This means each document can be labelled with one or more of the impact types. \n",
    "\n",
    "In each case, though, the first thing we need to do is to encode our text input numerically, so it can be used in our models. To do this, we'll take a look at approaches from the feature extraction module from [scikitlearn](https://scikit-learn.org/stable/modules/classes.html#module-sklearn.feature_extraction.text): `CountVectorizer` and `TfidfVectorizer`."
   ]
  },
  {
   "cell_type": "code",
   "execution_count": 9,
   "metadata": {},
   "outputs": [
    {
     "data": {
      "text/plain": [
       "matrix([[0, 0, 1, 1, 0, 0, 1, 1, 1, 0, 0, 1],\n",
       "        [1, 1, 1, 1, 1, 1, 0, 0, 1, 0, 0, 0],\n",
       "        [0, 0, 2, 1, 0, 0, 0, 0, 0, 1, 1, 0]])"
      ]
     },
     "execution_count": 9,
     "metadata": {},
     "output_type": "execute_result"
    }
   ],
   "source": [
    "from sklearn.feature_extraction.text import CountVectorizer, TfidfVectorizer\n",
    "from nltk.stem.porter import PorterStemmer\n",
    "\n",
    "# Let's take for now a couple of example texts\n",
    "texts = [\n",
    "    \"Climate change is impacting human systems\",\n",
    "    \"Climate change is caused by fossil fuels\",\n",
    "    \"System change not climate change\"\n",
    "]\n",
    "\n",
    "# We'll instantiate a vectorizer class\n",
    "vectorizer = CountVectorizer()\n",
    "\n",
    "# And apply the fit_transform method to our texts\n",
    "X = vectorizer.fit_transform(texts)\n",
    "\n",
    "# This gives us a matrix of shape n_texts, vocab_size\n",
    "X.todense()"
   ]
  },
  {
   "cell_type": "code",
   "execution_count": 10,
   "metadata": {},
   "outputs": [
    {
     "name": "stdout",
     "output_type": "stream",
     "text": [
      "[[0 0 1 1 0 0 1 1 1 0 0 1]\n",
      " [1 1 1 1 1 1 0 0 1 0 0 0]\n",
      " [0 0 2 1 0 0 0 0 0 1 1 0]]\n"
     ]
    },
    {
     "data": {
      "image/png": "[encoded data removed]",
      "text/plain": [
       "<Figure size 432x288 with 2 Axes>"
      ]
     },
     "metadata": {
      "needs_background": "light"
     },
     "output_type": "display_data"
    }
   ],
   "source": [
    "# The features each column represents can be accessed here\n",
    "features = vectorizer.get_feature_names_out()\n",
    "\n",
    "def visualize_doc_vec(X, features=None):\n",
    "    print(X.todense())\n",
    "    # And we could visualise this simply like this\n",
    "    fig, ax = plt.subplots()\n",
    "    doc_map = ax.imshow(X.todense(), cmap=\"Blues\")\n",
    "    ax.set_xticks(np.arange(len(features)))\n",
    "    ax.set_xticklabels(features, rotation=45, ha=\"right\")\n",
    "    cbar = fig.colorbar(doc_map)\n",
    "    \n",
    "visualize_doc_vec(X, features)\n",
    "\n",
    "plt.show()"
   ]
  },
  {
   "cell_type": "markdown",
   "metadata": {},
   "source": [
    "As we can see, each document is a row, each column is a feature. The cells contain the number of times each word occurs in each document. \n",
    "\n",
    "However, by adding a small amount of complexity we can generate a more useful way of representing these texts. EXPLAIN TFIDF HERE"
   ]
  },
  {
   "cell_type": "code",
   "execution_count": 11,
   "metadata": {},
   "outputs": [
    {
     "name": "stdout",
     "output_type": "stream",
     "text": [
      "[[0.         0.         0.28561676 0.28561676 0.         0.\n",
      "  0.48359121 0.48359121 0.36778358 0.         0.         0.48359121]\n",
      " [0.43535684 0.43535684 0.25712876 0.25712876 0.43535684 0.43535684\n",
      "  0.         0.         0.3311001  0.         0.         0.        ]\n",
      " [0.         0.         0.61046311 0.30523155 0.         0.\n",
      "  0.         0.         0.         0.51680194 0.51680194 0.        ]]\n"
     ]
    },
    {
     "data": {
      "image/png": "[encoded data removed]",
      "text/plain": [
       "<Figure size 432x288 with 2 Axes>"
      ]
     },
     "metadata": {
      "needs_background": "light"
     },
     "output_type": "display_data"
    }
   ],
   "source": [
    "vectorizer = TfidfVectorizer()\n",
    "X = vectorizer.fit_transform(texts)\n",
    "\n",
    "features = vectorizer.get_feature_names_out()\n",
    "\n",
    "visualize_doc_vec(X, features)\n",
    "\n",
    "plt.show()"
   ]
  },
  {
   "cell_type": "markdown",
   "metadata": {},
   "source": [
    "## Learning from features\n",
    "Support Vector machines work by ..."
   ]
  },
  {
   "cell_type": "code",
   "execution_count": 12,
   "metadata": {},
   "outputs": [
    {
     "data": {
      "text/plain": [
       "Pipeline(steps=[('vec', TfidfVectorizer()),\n",
       "                ('clf', SVC(class_weight='balanced', probability=True))])"
      ]
     },
     "execution_count": 12,
     "metadata": {},
     "output_type": "execute_result"
    }
   ],
   "source": [
    "from sklearn.svm import SVC\n",
    "from sklearn.pipeline import Pipeline\n",
    "\n",
    "clf = Pipeline(steps=[\n",
    "    (\"vect\", TfidfVectorizer()), \n",
    "    (\"clf\", SVC(probability=True, class_weight=\"balanced\"))\n",
    "])\n",
    "\n",
    "# We'll slightly expand our list of texts\n",
    "texts, y = zip(*[\n",
    "    (\"Climate change is impacting human systems\", 1),\n",
    "    (\"Climate change is caused by fossil fuels\", 0),\n",
    "    (\"Agricultural yields are affected by climate change\", 1),\n",
    "    (\"System change not climate change\", 0),\n",
    "    (\"higher temperatures are impacting human health\", 1),\n",
    "    (\"Forest fires are becoming more frequent due to climate change\", 1),\n",
    "    (\"Machine learning can read texts\", 0),\n",
    "    (\"AI can help solve climate change!\", 0),\n",
    "    (\"We need to save gas this winter\", 0),\n",
    "    (\"More frequent droughts are impacting crop yields\", 1),\n",
    "    (\"Many communities are affected by rising sea levels\", 1),\n",
    "    (\"Global emissions continue to rise\", 0),\n",
    "    (\"Ecosystems are increasingly impacted by rising temperatures\", 1),\n",
    "    (\"Emissions from fossil fuels need to decline\", 0),\n",
    "    (\"Anthropogenic climate change is impacting vulnerable communities\", 1)\n",
    "])\n",
    "\n",
    "clf.fit(texts,y)"
   ]
  },
  {
   "cell_type": "code",
   "execution_count": 13,
   "metadata": {},
   "outputs": [
    {
     "data": {
      "text/plain": [
       "array([1, 0, 0])"
      ]
     },
     "execution_count": 13,
     "metadata": {},
     "output_type": "execute_result"
    }
   ],
   "source": [
    "# We can now use this classifier to make predictions about new texts\n",
    "\n",
    "# Here are a couple of easy examples (easy because they are similar to our examples)\n",
    "new_texts = [\n",
    "    \"climate change is impacting terrestrial ecosystems\",\n",
    "    \"Machine Learning will solve climate change\",\n",
    "    \"Fossil fuels are responsible for rising temperature\"\n",
    "]\n",
    "# We can make predictions about which class the examples belong to\n",
    "clf.predict(new_texts)"
   ]
  },
  {
   "cell_type": "code",
   "execution_count": 14,
   "metadata": {},
   "outputs": [
    {
     "data": {
      "text/plain": [
       "array([[0.63550719, 0.36449281],\n",
       "       [0.24950498, 0.75049502],\n",
       "       [0.39217643, 0.60782357]])"
      ]
     },
     "execution_count": 14,
     "metadata": {},
     "output_type": "execute_result"
    }
   ],
   "source": [
    "# We can also get these as probabilities (which are very unstable with small datasets, and not guaranteed to match the predictions)\n",
    "clf.predict_proba(new_texts)"
   ]
  },
  {
   "cell_type": "code",
   "execution_count": 15,
   "metadata": {},
   "outputs": [
    {
     "data": {
      "text/plain": [
       "array([0.36449281, 0.75049502, 0.60782357])"
      ]
     },
     "execution_count": 15,
     "metadata": {},
     "output_type": "execute_result"
    }
   ],
   "source": [
    "# Each row contains predicted probabilites for each class, in this case 0, and 1\n",
    "\n",
    "# We can get predicted probabilities of being in the INCLUDE class like this\n",
    "clf.predict_proba(new_texts)[:,1]"
   ]
  },
  {
   "cell_type": "markdown",
   "metadata": {},
   "source": [
    "## Multilabel\n",
    "\n",
    "Multilabel problems are those where any sample can belong to any of the classes (as opposed to multilaclass problems where each sample must belong to **exactly 1** class. In our dataset, most documents which were marked as relevant are assigned to one class, with some assigned to two, and very few assigned to three."
   ]
  },
  {
   "cell_type": "code",
   "execution_count": 21,
   "metadata": {},
   "outputs": [
    {
     "data": {
      "text/plain": [
       "(array([1207.,    0.,    0.,    0.,    0.,   93.,    0.,    0.,    0.,\n",
       "           6.]),\n",
       " array([1. , 1.2, 1.4, 1.6, 1.8, 2. , 2.2, 2.4, 2.6, 2.8, 3. ]),\n",
       " <BarContainer object of 10 artists>)"
      ]
     },
     "execution_count": 21,
     "metadata": {},
     "output_type": "execute_result"
    },
    {
     "data": {
      "image/png": "[encoded data removed]",
      "text/plain": [
       "<Figure size 432x288 with 1 Axes>"
      ]
     },
     "metadata": {
      "needs_background": "light"
     },
     "output_type": "display_data"
    }
   ],
   "source": [
    "plt.hist(df[df[\"INCLUDE\"]==1][impacts].sum(axis=1))"
   ]
  },
  {
   "cell_type": "code",
   "execution_count": 31,
   "metadata": {},
   "outputs": [
    {
     "data": {
      "text/plain": [
       "Int64Index([1594,   39, 1110,  183, 1412, 1751, 2288, 1614, 2142, 1443, 2267,\n",
       "            2164,  368,  284,  462,  783, 2060,  458, 1702, 1851,  382,    5,\n",
       "            2027,   96, 2147,  276,  305, 1346, 2015, 1072, 1133,  199, 1149,\n",
       "            2339, 2118,  696, 1329, 1613,  971, 1160,  678, 1198,   42, 1634,\n",
       "             911, 2167, 1617,  493, 1311, 1079, 1806, 1210,  967,  188,  572,\n",
       "              83, 2057, 2226,  620, 2059,  355,  974, 1105, 1884,  605, 1832,\n",
       "            2155,  688,  777, 1833,  482,  167,  670,  807, 1662, 1017, 2191,\n",
       "              80, 1704, 1465, 1434, 1248, 2393, 1126,  195, 1344, 1275,  224,\n",
       "            1524,  890, 1572,  726, 1823,  902, 1843, 1186, 1914,  344, 2245,\n",
       "            2035],\n",
       "           dtype='int64')"
      ]
     },
     "execution_count": 31,
     "metadata": {},
     "output_type": "execute_result"
    }
   ],
   "source": [
    "samples"
   ]
  },
  {
   "cell_type": "code",
   "execution_count": 36,
   "metadata": {},
   "outputs": [
    {
     "data": {
      "text/html": [
       "<div>\n",
       "<style scoped>\n",
       "    .dataframe tbody tr th:only-of-type {\n",
       "        vertical-align: middle;\n",
       "    }\n",
       "\n",
       "    .dataframe tbody tr th {\n",
       "        vertical-align: top;\n",
       "    }\n",
       "\n",
       "    .dataframe thead th {\n",
       "        text-align: right;\n",
       "    }\n",
       "</style>\n",
       "<table border=\"1\" class=\"dataframe\">\n",
       "  <thead>\n",
       "    <tr style=\"text-align: right;\">\n",
       "      <th></th>\n",
       "      <th>12 - Coastal and marine Ecosystems</th>\n",
       "      <th>12 - Human and managed</th>\n",
       "      <th>12 - Mountains, snow and ice</th>\n",
       "      <th>12 - Rivers, lakes, and soil moisture</th>\n",
       "      <th>12 - Terrestrial ES</th>\n",
       "    </tr>\n",
       "  </thead>\n",
       "  <tbody>\n",
       "    <tr>\n",
       "      <th>1594</th>\n",
       "      <td>0.0</td>\n",
       "      <td>0.0</td>\n",
       "      <td>0.0</td>\n",
       "      <td>0.0</td>\n",
       "      <td>1.0</td>\n",
       "    </tr>\n",
       "    <tr>\n",
       "      <th>39</th>\n",
       "      <td>0.0</td>\n",
       "      <td>0.0</td>\n",
       "      <td>0.0</td>\n",
       "      <td>1.0</td>\n",
       "      <td>0.0</td>\n",
       "    </tr>\n",
       "    <tr>\n",
       "      <th>1110</th>\n",
       "      <td>1.0</td>\n",
       "      <td>0.0</td>\n",
       "      <td>0.0</td>\n",
       "      <td>0.0</td>\n",
       "      <td>0.0</td>\n",
       "    </tr>\n",
       "    <tr>\n",
       "      <th>183</th>\n",
       "      <td>1.0</td>\n",
       "      <td>0.0</td>\n",
       "      <td>0.0</td>\n",
       "      <td>0.0</td>\n",
       "      <td>0.0</td>\n",
       "    </tr>\n",
       "    <tr>\n",
       "      <th>1412</th>\n",
       "      <td>0.0</td>\n",
       "      <td>1.0</td>\n",
       "      <td>0.0</td>\n",
       "      <td>0.0</td>\n",
       "      <td>0.0</td>\n",
       "    </tr>\n",
       "    <tr>\n",
       "      <th>...</th>\n",
       "      <td>...</td>\n",
       "      <td>...</td>\n",
       "      <td>...</td>\n",
       "      <td>...</td>\n",
       "      <td>...</td>\n",
       "    </tr>\n",
       "    <tr>\n",
       "      <th>1186</th>\n",
       "      <td>0.0</td>\n",
       "      <td>0.0</td>\n",
       "      <td>0.0</td>\n",
       "      <td>1.0</td>\n",
       "      <td>0.0</td>\n",
       "    </tr>\n",
       "    <tr>\n",
       "      <th>1914</th>\n",
       "      <td>0.0</td>\n",
       "      <td>0.0</td>\n",
       "      <td>0.0</td>\n",
       "      <td>0.0</td>\n",
       "      <td>1.0</td>\n",
       "    </tr>\n",
       "    <tr>\n",
       "      <th>344</th>\n",
       "      <td>0.0</td>\n",
       "      <td>0.0</td>\n",
       "      <td>0.0</td>\n",
       "      <td>1.0</td>\n",
       "      <td>0.0</td>\n",
       "    </tr>\n",
       "    <tr>\n",
       "      <th>2245</th>\n",
       "      <td>1.0</td>\n",
       "      <td>0.0</td>\n",
       "      <td>0.0</td>\n",
       "      <td>0.0</td>\n",
       "      <td>0.0</td>\n",
       "    </tr>\n",
       "    <tr>\n",
       "      <th>2035</th>\n",
       "      <td>1.0</td>\n",
       "      <td>0.0</td>\n",
       "      <td>0.0</td>\n",
       "      <td>0.0</td>\n",
       "      <td>1.0</td>\n",
       "    </tr>\n",
       "  </tbody>\n",
       "</table>\n",
       "<p>100 rows × 5 columns</p>\n",
       "</div>"
      ],
      "text/plain": [
       "      12 - Coastal and marine Ecosystems  12 - Human and managed  \\\n",
       "1594                                 0.0                     0.0   \n",
       "39                                   0.0                     0.0   \n",
       "1110                                 1.0                     0.0   \n",
       "183                                  1.0                     0.0   \n",
       "1412                                 0.0                     1.0   \n",
       "...                                  ...                     ...   \n",
       "1186                                 0.0                     0.0   \n",
       "1914                                 0.0                     0.0   \n",
       "344                                  0.0                     0.0   \n",
       "2245                                 1.0                     0.0   \n",
       "2035                                 1.0                     0.0   \n",
       "\n",
       "      12 - Mountains, snow and ice  12 - Rivers, lakes, and soil moisture  \\\n",
       "1594                           0.0                                    0.0   \n",
       "39                             0.0                                    1.0   \n",
       "1110                           0.0                                    0.0   \n",
       "183                            0.0                                    0.0   \n",
       "1412                           0.0                                    0.0   \n",
       "...                            ...                                    ...   \n",
       "1186                           0.0                                    1.0   \n",
       "1914                           0.0                                    0.0   \n",
       "344                            0.0                                    1.0   \n",
       "2245                           0.0                                    0.0   \n",
       "2035                           0.0                                    0.0   \n",
       "\n",
       "      12 - Terrestrial ES  \n",
       "1594                  1.0  \n",
       "39                    0.0  \n",
       "1110                  0.0  \n",
       "183                   0.0  \n",
       "1412                  0.0  \n",
       "...                   ...  \n",
       "1186                  0.0  \n",
       "1914                  1.0  \n",
       "344                   0.0  \n",
       "2245                  0.0  \n",
       "2035                  1.0  \n",
       "\n",
       "[100 rows x 5 columns]"
      ]
     },
     "execution_count": 36,
     "metadata": {},
     "output_type": "execute_result"
    }
   ],
   "source": []
  },
  {
   "cell_type": "markdown",
   "metadata": {},
   "source": [
    "To prepare our target for the model, we simply create a matrix with a row for each document and a column for each class"
   ]
  },
  {
   "cell_type": "code",
   "execution_count": 54,
   "metadata": {},
   "outputs": [
    {
     "data": {
      "text/plain": [
       "array([[0., 0., 1., 0., 0.],\n",
       "       [1., 0., 0., 0., 0.],\n",
       "       [0., 0., 1., 1., 0.],\n",
       "       ...,\n",
       "       [0., 0., 0., 0., 1.],\n",
       "       [0., 0., 0., 0., 1.],\n",
       "       [1., 0., 0., 0., 0.]])"
      ]
     },
     "execution_count": 54,
     "metadata": {},
     "output_type": "execute_result"
    }
   ],
   "source": [
    "\n",
    "\n",
    "# create an x and y variable with a sample of 200 relevant documents\n",
    "samples = df[df[\"INCLUDE\"]==1].sample(200).index\n",
    "X = df.iloc[samples][\"abstract\"]\n",
    "y = df.iloc[samples][impacts].values\n",
    "np.set_printoptions(threshold=5)\n",
    "y"
   ]
  },
  {
   "cell_type": "markdown",
   "metadata": {},
   "source": [
    "Now we just need to slightly amend our pipeline by defining how we want to approach the multilabel problem.\n",
    "\n",
    "We use a One vs Rest classifier which simply creates a binary classifier for each class"
   ]
  },
  {
   "cell_type": "code",
   "execution_count": 55,
   "metadata": {},
   "outputs": [
    {
     "data": {
      "text/plain": [
       "Pipeline(steps=[('vec', TfidfVectorizer()),\n",
       "                ('clf',\n",
       "                 OneVsRestClassifier(estimator=SVC(class_weight='balanced',\n",
       "                                                   probability=True)))])"
      ]
     },
     "execution_count": 55,
     "metadata": {},
     "output_type": "execute_result"
    }
   ],
   "source": [
    "from sklearn.multiclass import OneVsRestClassifier\n",
    "\n",
    "clf = Pipeline(steps=[\n",
    "    (\"vec\", TfidfVectorizer()), \n",
    "    (\"clf\", OneVsRestClassifier(SVC(probability=True, class_weight=\"balanced\")))\n",
    "])\n",
    "\n",
    "clf.fit(X,y)"
   ]
  },
  {
   "cell_type": "code",
   "execution_count": null,
   "metadata": {},
   "outputs": [],
   "source": [
    "# In the same way, we can make predictions"
   ]
  },
  {
   "cell_type": "code",
   "execution_count": 63,
   "metadata": {},
   "outputs": [
    {
     "data": {
      "text/html": [
       "<div>\n",
       "<style scoped>\n",
       "    .dataframe tbody tr th:only-of-type {\n",
       "        vertical-align: middle;\n",
       "    }\n",
       "\n",
       "    .dataframe tbody tr th {\n",
       "        vertical-align: top;\n",
       "    }\n",
       "\n",
       "    .dataframe thead th {\n",
       "        text-align: right;\n",
       "    }\n",
       "</style>\n",
       "<table border=\"1\" class=\"dataframe\">\n",
       "  <thead>\n",
       "    <tr style=\"text-align: right;\">\n",
       "      <th></th>\n",
       "      <th>12 - Coastal and marine Ecosystems</th>\n",
       "      <th>12 - Human and managed</th>\n",
       "      <th>12 - Mountains, snow and ice</th>\n",
       "      <th>12 - Rivers, lakes, and soil moisture</th>\n",
       "      <th>12 - Terrestrial ES</th>\n",
       "    </tr>\n",
       "  </thead>\n",
       "  <tbody>\n",
       "    <tr>\n",
       "      <th>0</th>\n",
       "      <td>0</td>\n",
       "      <td>0</td>\n",
       "      <td>0</td>\n",
       "      <td>0</td>\n",
       "      <td>1</td>\n",
       "    </tr>\n",
       "    <tr>\n",
       "      <th>1</th>\n",
       "      <td>0</td>\n",
       "      <td>1</td>\n",
       "      <td>0</td>\n",
       "      <td>0</td>\n",
       "      <td>0</td>\n",
       "    </tr>\n",
       "  </tbody>\n",
       "</table>\n",
       "</div>"
      ],
      "text/plain": [
       "   12 - Coastal and marine Ecosystems  12 - Human and managed  \\\n",
       "0                                   0                       0   \n",
       "1                                   0                       1   \n",
       "\n",
       "   12 - Mountains, snow and ice  12 - Rivers, lakes, and soil moisture  \\\n",
       "0                             0                                      0   \n",
       "1                             0                                      0   \n",
       "\n",
       "   12 - Terrestrial ES  \n",
       "0                    1  \n",
       "1                    0  "
      ]
     },
     "execution_count": 63,
     "metadata": {},
     "output_type": "execute_result"
    }
   ],
   "source": [
    "example_texts = [\n",
    "    \"Climate change has affected butterfly phenology in North America. \"\n",
    "    + \"In an experiment in the butterfly national park, we found that \"\n",
    "    + \"mean dates of appearance had shifted by two weeks. Species traits, \"\n",
    "    + \"especially ecological traits, were found to explain some part of \"\n",
    "    + \"different phenological responses\",\n",
    "    \"Rising temperatures have contributed to increasing heat related mortaility \"\n",
    "    + \"in cities across Europe. \"\n",
    "]\n",
    "y_pred = clf.predict(example_texts)\n",
    "\n",
    "pd.DataFrame(y_pred, columns=impacts)"
   ]
  }
 ],
 "metadata": {
  "kernelspec": {
   "display_name": "Python3.9 (py39)",
   "language": "python",
   "name": "py39"
  },
  "language_info": {
   "codemirror_mode": {
    "name": "ipython",
    "version": 3
   },
   "file_extension": ".py",
   "mimetype": "text/x-python",
   "name": "python",
   "nbconvert_exporter": "python",
   "pygments_lexer": "ipython3",
   "version": "3.9.13"
  }
 },
 "nbformat": 4,
 "nbformat_minor": 4
}
